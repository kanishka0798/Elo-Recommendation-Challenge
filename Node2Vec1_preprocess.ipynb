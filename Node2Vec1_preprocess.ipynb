{
 "cells": [
  {
   "cell_type": "code",
   "execution_count": 1,
   "metadata": {
    "_cell_guid": "b1076dfc-b9ad-4769-8c92-a6c4dae69d19",
    "_uuid": "8f2839f25d086af736a60e9eeb907d3b93b6e0e5"
   },
   "outputs": [
    {
     "name": "stdout",
     "output_type": "stream",
     "text": [
      "['desktop.ini', 'ELO']\n"
     ]
    }
   ],
   "source": [
    "# This Python 3 environment comes with many helpful analytics libraries installed\n",
    "# It is defined by the kaggle/python docker image: https://github.com/kaggle/docker-python\n",
    "# For example, here's several helpful packages to load in \n",
    "\n",
    "import numpy as np # linear algebra\n",
    "import pandas as pd # data processing, CSV file I/O (e.g. pd.read_csv)\n",
    "\n",
    "# Input data files are available in the \"../input/\" directory.\n",
    "# For example, running this (by clicking run or pressing Shift+Enter) will list the files in the input directory\n",
    "\n",
    "import os\n",
    "print(os.listdir(\"../\"))\n",
    "\n",
    "# Any results you write to the current directory are saved as output."
   ]
  },
  {
   "cell_type": "code",
   "execution_count": 2,
   "metadata": {
    "_cell_guid": "79c7e3d0-c299-4dcb-8224-4455121ee9b0",
    "_uuid": "d629ff2d2480ee46fbb7e2d37f6b5fab8052498a"
   },
   "outputs": [],
   "source": [
    "def reduce_mem_usage(df, verbose=True):\n",
    "    numerics = ['int16', 'int32', 'int64', 'float16', 'float32', 'float64']\n",
    "    start_mem = df.memory_usage().sum() / 1024**2    \n",
    "    for col in df.columns:\n",
    "        col_type = df[col].dtypes\n",
    "        if col_type in numerics:\n",
    "            c_min = df[col].min()\n",
    "            c_max = df[col].max()\n",
    "            if str(col_type)[:3] == 'int':\n",
    "                if c_min > np.iinfo(np.int8).min and c_max < np.iinfo(np.int8).max:\n",
    "                    df[col] = df[col].astype(np.int8)\n",
    "                elif c_min > np.iinfo(np.int16).min and c_max < np.iinfo(np.int16).max:\n",
    "                    df[col] = df[col].astype(np.int16)\n",
    "                elif c_min > np.iinfo(np.int32).min and c_max < np.iinfo(np.int32).max:\n",
    "                    df[col] = df[col].astype(np.int32)\n",
    "                elif c_min > np.iinfo(np.int64).min and c_max < np.iinfo(np.int64).max:\n",
    "                    df[col] = df[col].astype(np.int64)  \n",
    "            else:\n",
    "                if c_min > np.finfo(np.float16).min and c_max < np.finfo(np.float16).max:\n",
    "                    df[col] = df[col].astype(np.float16)\n",
    "                elif c_min > np.finfo(np.float32).min and c_max < np.finfo(np.float32).max:\n",
    "                    df[col] = df[col].astype(np.float32)\n",
    "                else:\n",
    "                    df[col] = df[col].astype(np.float64)    \n",
    "    end_mem = df.memory_usage().sum() / 1024**2\n",
    "    if verbose: print('Mem. usage decreased to {:5.2f} Mb ({:.1f}% reduction)'.format(end_mem, 100 * (start_mem - end_mem) / start_mem))\n",
    "    return df"
   ]
  },
  {
   "cell_type": "code",
   "execution_count": 3,
   "metadata": {},
   "outputs": [],
   "source": [
    "#train = pd.read_csv('../input/train.csv')\n",
    "#test = pd.read_csv('../input/test.csv')\n",
    "hist_trans = pd.read_csv('../ELO/historical_transactions.csv')\n",
    "#new_merchant_trans = pd.read_csv('../input/new_merchant_transactions.csv')"
   ]
  },
  {
   "cell_type": "code",
   "execution_count": 5,
   "metadata": {},
   "outputs": [
    {
     "data": {
      "text/html": [
       "<div>\n",
       "<style scoped>\n",
       "    .dataframe tbody tr th:only-of-type {\n",
       "        vertical-align: middle;\n",
       "    }\n",
       "\n",
       "    .dataframe tbody tr th {\n",
       "        vertical-align: top;\n",
       "    }\n",
       "\n",
       "    .dataframe thead th {\n",
       "        text-align: right;\n",
       "    }\n",
       "</style>\n",
       "<table border=\"1\" class=\"dataframe\">\n",
       "  <thead>\n",
       "    <tr style=\"text-align: right;\">\n",
       "      <th></th>\n",
       "      <th>authorized_flag</th>\n",
       "      <th>card_id</th>\n",
       "      <th>city_id</th>\n",
       "      <th>category_1</th>\n",
       "      <th>installments</th>\n",
       "      <th>category_3</th>\n",
       "      <th>merchant_category_id</th>\n",
       "      <th>merchant_id</th>\n",
       "      <th>month_lag</th>\n",
       "      <th>purchase_amount</th>\n",
       "      <th>purchase_date</th>\n",
       "      <th>category_2</th>\n",
       "      <th>state_id</th>\n",
       "      <th>subsector_id</th>\n",
       "    </tr>\n",
       "  </thead>\n",
       "  <tbody>\n",
       "    <tr>\n",
       "      <th>0</th>\n",
       "      <td>Y</td>\n",
       "      <td>C_ID_4e6213e9bc</td>\n",
       "      <td>88</td>\n",
       "      <td>N</td>\n",
       "      <td>0</td>\n",
       "      <td>A</td>\n",
       "      <td>80</td>\n",
       "      <td>M_ID_e020e9b302</td>\n",
       "      <td>-8</td>\n",
       "      <td>-0.703331</td>\n",
       "      <td>2017-06-25 15:33:07</td>\n",
       "      <td>1.0</td>\n",
       "      <td>16</td>\n",
       "      <td>37</td>\n",
       "    </tr>\n",
       "    <tr>\n",
       "      <th>1</th>\n",
       "      <td>Y</td>\n",
       "      <td>C_ID_4e6213e9bc</td>\n",
       "      <td>88</td>\n",
       "      <td>N</td>\n",
       "      <td>0</td>\n",
       "      <td>A</td>\n",
       "      <td>367</td>\n",
       "      <td>M_ID_86ec983688</td>\n",
       "      <td>-7</td>\n",
       "      <td>-0.733128</td>\n",
       "      <td>2017-07-15 12:10:45</td>\n",
       "      <td>1.0</td>\n",
       "      <td>16</td>\n",
       "      <td>16</td>\n",
       "    </tr>\n",
       "    <tr>\n",
       "      <th>2</th>\n",
       "      <td>Y</td>\n",
       "      <td>C_ID_4e6213e9bc</td>\n",
       "      <td>88</td>\n",
       "      <td>N</td>\n",
       "      <td>0</td>\n",
       "      <td>A</td>\n",
       "      <td>80</td>\n",
       "      <td>M_ID_979ed661fc</td>\n",
       "      <td>-6</td>\n",
       "      <td>-0.720386</td>\n",
       "      <td>2017-08-09 22:04:29</td>\n",
       "      <td>1.0</td>\n",
       "      <td>16</td>\n",
       "      <td>37</td>\n",
       "    </tr>\n",
       "    <tr>\n",
       "      <th>3</th>\n",
       "      <td>Y</td>\n",
       "      <td>C_ID_4e6213e9bc</td>\n",
       "      <td>88</td>\n",
       "      <td>N</td>\n",
       "      <td>0</td>\n",
       "      <td>A</td>\n",
       "      <td>560</td>\n",
       "      <td>M_ID_e6d5ae8ea6</td>\n",
       "      <td>-5</td>\n",
       "      <td>-0.735352</td>\n",
       "      <td>2017-09-02 10:06:26</td>\n",
       "      <td>1.0</td>\n",
       "      <td>16</td>\n",
       "      <td>34</td>\n",
       "    </tr>\n",
       "    <tr>\n",
       "      <th>4</th>\n",
       "      <td>Y</td>\n",
       "      <td>C_ID_4e6213e9bc</td>\n",
       "      <td>88</td>\n",
       "      <td>N</td>\n",
       "      <td>0</td>\n",
       "      <td>A</td>\n",
       "      <td>80</td>\n",
       "      <td>M_ID_e020e9b302</td>\n",
       "      <td>-11</td>\n",
       "      <td>-0.722865</td>\n",
       "      <td>2017-03-10 01:14:19</td>\n",
       "      <td>1.0</td>\n",
       "      <td>16</td>\n",
       "      <td>37</td>\n",
       "    </tr>\n",
       "  </tbody>\n",
       "</table>\n",
       "</div>"
      ],
      "text/plain": [
       "  authorized_flag          card_id  city_id category_1  installments  \\\n",
       "0               Y  C_ID_4e6213e9bc       88          N             0   \n",
       "1               Y  C_ID_4e6213e9bc       88          N             0   \n",
       "2               Y  C_ID_4e6213e9bc       88          N             0   \n",
       "3               Y  C_ID_4e6213e9bc       88          N             0   \n",
       "4               Y  C_ID_4e6213e9bc       88          N             0   \n",
       "\n",
       "  category_3  merchant_category_id      merchant_id  month_lag  \\\n",
       "0          A                    80  M_ID_e020e9b302         -8   \n",
       "1          A                   367  M_ID_86ec983688         -7   \n",
       "2          A                    80  M_ID_979ed661fc         -6   \n",
       "3          A                   560  M_ID_e6d5ae8ea6         -5   \n",
       "4          A                    80  M_ID_e020e9b302        -11   \n",
       "\n",
       "   purchase_amount        purchase_date  category_2  state_id  subsector_id  \n",
       "0        -0.703331  2017-06-25 15:33:07         1.0        16            37  \n",
       "1        -0.733128  2017-07-15 12:10:45         1.0        16            16  \n",
       "2        -0.720386  2017-08-09 22:04:29         1.0        16            37  \n",
       "3        -0.735352  2017-09-02 10:06:26         1.0        16            34  \n",
       "4        -0.722865  2017-03-10 01:14:19         1.0        16            37  "
      ]
     },
     "execution_count": 5,
     "metadata": {},
     "output_type": "execute_result"
    }
   ],
   "source": [
    "#hist_trans=reduce_mem_usage(hist_trans)\n",
    "hist_trans.head()"
   ]
  },
  {
   "cell_type": "code",
   "execution_count": 8,
   "metadata": {},
   "outputs": [],
   "source": [
    "train = pd.read_csv('train.csv')\n",
    "test = pd.read_csv('test.csv')\n"
   ]
  },
  {
   "cell_type": "code",
   "execution_count": 13,
   "metadata": {},
   "outputs": [
    {
     "data": {
      "text/plain": [
       "<matplotlib.axes._subplots.AxesSubplot at 0x1dbe0ccb0b8>"
      ]
     },
     "execution_count": 13,
     "metadata": {},
     "output_type": "execute_result"
    },
    {
     "data": {
      "image/png": "[encoded data removed]",
      "text/plain": [
       "<Figure size 432x288 with 1 Axes>"
      ]
     },
     "metadata": {
      "needs_background": "light"
     },
     "output_type": "display_data"
    }
   ],
   "source": [
    "import matplotlib.pyplot as plt\n",
    "train.target.hist()"
   ]
  },
  {
   "cell_type": "code",
   "execution_count": 21,
   "metadata": {},
   "outputs": [
    {
     "data": {
      "text/plain": [
       "((2264, 6), (1742, 6))"
      ]
     },
     "execution_count": 21,
     "metadata": {},
     "output_type": "execute_result"
    }
   ],
   "source": [
    "train[train.target<-10].shape,train[train.target>5].shape"
   ]
  },
  {
   "cell_type": "code",
   "execution_count": 65,
   "metadata": {},
   "outputs": [],
   "source": [
    "train[train.target<-10].to_csv('Least Loyal.csv',index=False)\n",
    "train[train.target>5].to_csv('Most Loyal.csv',index=False)"
   ]
  },
  {
   "cell_type": "code",
   "execution_count": 27,
   "metadata": {},
   "outputs": [
    {
     "data": {
      "text/plain": [
       "['C_ID_b9379a30ea', 'C_ID_e9120f535c', 'C_ID_65715cb80d', 'C_ID_ae77d244b6']"
      ]
     },
     "execution_count": 27,
     "metadata": {},
     "output_type": "execute_result"
    }
   ],
   "source": [
    "train_cust_list=list(train[train.target<-10].card_id.values)+list(train[train.target>5].card_id.values)\n",
    "train_cust_list[1:5]"
   ]
  },
  {
   "cell_type": "code",
   "execution_count": 33,
   "metadata": {},
   "outputs": [],
   "source": [
    "test_cust_list=list(test.card_id)[:5000]"
   ]
  },
  {
   "cell_type": "code",
   "execution_count": 35,
   "metadata": {},
   "outputs": [
    {
     "data": {
      "text/plain": [
       "9006"
      ]
     },
     "execution_count": 35,
     "metadata": {},
     "output_type": "execute_result"
    }
   ],
   "source": [
    "embed_cust_list=train_cust_list+test_cust_list\n",
    "len(embed_cust_list)"
   ]
  },
  {
   "cell_type": "code",
   "execution_count": 39,
   "metadata": {},
   "outputs": [
    {
     "data": {
      "text/plain": [
       "((734037, 14), (29112361, 14))"
      ]
     },
     "execution_count": 39,
     "metadata": {},
     "output_type": "execute_result"
    }
   ],
   "source": [
    "#Filter  hist transactions\n",
    "fil_merch=hist_trans[hist_trans.card_id.isin(embed_cust_list)]\n",
    "#.groupby(['card_id']).agg({'purchase_amount':['sum','count']})\n",
    "fil_merch.shape,hist_trans.shape"
   ]
  },
  {
   "cell_type": "code",
   "execution_count": 40,
   "metadata": {},
   "outputs": [
    {
     "data": {
      "text/html": [
       "<div>\n",
       "<style scoped>\n",
       "    .dataframe tbody tr th:only-of-type {\n",
       "        vertical-align: middle;\n",
       "    }\n",
       "\n",
       "    .dataframe tbody tr th {\n",
       "        vertical-align: top;\n",
       "    }\n",
       "\n",
       "    .dataframe thead th {\n",
       "        text-align: right;\n",
       "    }\n",
       "</style>\n",
       "<table border=\"1\" class=\"dataframe\">\n",
       "  <thead>\n",
       "    <tr style=\"text-align: right;\">\n",
       "      <th></th>\n",
       "      <th>card_id</th>\n",
       "      <th>merchant_id</th>\n",
       "      <th>weight</th>\n",
       "    </tr>\n",
       "  </thead>\n",
       "  <tbody>\n",
       "    <tr>\n",
       "      <th>0</th>\n",
       "      <td>C_ID_00087f3079</td>\n",
       "      <td>M_ID_00a6ca8a8a</td>\n",
       "      <td>7</td>\n",
       "    </tr>\n",
       "    <tr>\n",
       "      <th>1</th>\n",
       "      <td>C_ID_00087f3079</td>\n",
       "      <td>M_ID_070f18bfd0</td>\n",
       "      <td>2</td>\n",
       "    </tr>\n",
       "    <tr>\n",
       "      <th>2</th>\n",
       "      <td>C_ID_00087f3079</td>\n",
       "      <td>M_ID_079ed19994</td>\n",
       "      <td>2</td>\n",
       "    </tr>\n",
       "    <tr>\n",
       "      <th>3</th>\n",
       "      <td>C_ID_00087f3079</td>\n",
       "      <td>M_ID_081783973b</td>\n",
       "      <td>1</td>\n",
       "    </tr>\n",
       "    <tr>\n",
       "      <th>4</th>\n",
       "      <td>C_ID_00087f3079</td>\n",
       "      <td>M_ID_11c1ad802f</td>\n",
       "      <td>2</td>\n",
       "    </tr>\n",
       "  </tbody>\n",
       "</table>\n",
       "</div>"
      ],
      "text/plain": [
       "           card_id      merchant_id  weight\n",
       "0  C_ID_00087f3079  M_ID_00a6ca8a8a       7\n",
       "1  C_ID_00087f3079  M_ID_070f18bfd0       2\n",
       "2  C_ID_00087f3079  M_ID_079ed19994       2\n",
       "3  C_ID_00087f3079  M_ID_081783973b       1\n",
       "4  C_ID_00087f3079  M_ID_11c1ad802f       2"
      ]
     },
     "execution_count": 40,
     "metadata": {},
     "output_type": "execute_result"
    }
   ],
   "source": [
    "df_cid_mid_filtered=fil_merch.loc[:,['card_id','merchant_id']]\n",
    "#df_cid_mid.drop_duplicates(inplace=True)\n",
    "df_cid_mid_filtered.dropna(inplace=True)\n",
    "df_cid_mid_filtered['weight']=1\n",
    "df_cid_mid_filtered=df_cid_mid_filtered.groupby(['card_id','merchant_id']).agg({'weight':'count'})\n",
    "df_cid_mid_filtered.columns = [''.join(col).strip() for col in df_cid_mid_filtered.columns.values]\n",
    "df_cid_mid_filtered.reset_index(inplace=True)\n",
    "#\n",
    "df_cid_mid_filtered.head()"
   ]
  },
  {
   "cell_type": "code",
   "execution_count": 41,
   "metadata": {},
   "outputs": [
    {
     "data": {
      "text/plain": [
       "(280693, 3)"
      ]
     },
     "execution_count": 41,
     "metadata": {},
     "output_type": "execute_result"
    }
   ],
   "source": [
    "df_cid_mid_filtered.shape"
   ]
  },
  {
   "cell_type": "code",
   "execution_count": 63,
   "metadata": {},
   "outputs": [
    {
     "data": {
      "text/html": [
       "<div>\n",
       "<style scoped>\n",
       "    .dataframe tbody tr th:only-of-type {\n",
       "        vertical-align: middle;\n",
       "    }\n",
       "\n",
       "    .dataframe tbody tr th {\n",
       "        vertical-align: top;\n",
       "    }\n",
       "\n",
       "    .dataframe thead th {\n",
       "        text-align: right;\n",
       "    }\n",
       "</style>\n",
       "<table border=\"1\" class=\"dataframe\">\n",
       "  <thead>\n",
       "    <tr style=\"text-align: right;\">\n",
       "      <th></th>\n",
       "      <th>card_id</th>\n",
       "      <th>merchant_id</th>\n",
       "      <th>weight</th>\n",
       "    </tr>\n",
       "  </thead>\n",
       "  <tbody>\n",
       "    <tr>\n",
       "      <th>263658</th>\n",
       "      <td>C_ID_f008e08959</td>\n",
       "      <td>M_ID_00a6ca8a8a</td>\n",
       "      <td>4</td>\n",
       "    </tr>\n",
       "    <tr>\n",
       "      <th>263659</th>\n",
       "      <td>C_ID_f008e08959</td>\n",
       "      <td>M_ID_00c2f2ad26</td>\n",
       "      <td>1</td>\n",
       "    </tr>\n",
       "    <tr>\n",
       "      <th>263660</th>\n",
       "      <td>C_ID_f008e08959</td>\n",
       "      <td>M_ID_2394e530e2</td>\n",
       "      <td>1</td>\n",
       "    </tr>\n",
       "    <tr>\n",
       "      <th>263661</th>\n",
       "      <td>C_ID_f008e08959</td>\n",
       "      <td>M_ID_36e0005381</td>\n",
       "      <td>1</td>\n",
       "    </tr>\n",
       "    <tr>\n",
       "      <th>263662</th>\n",
       "      <td>C_ID_f008e08959</td>\n",
       "      <td>M_ID_45e0428325</td>\n",
       "      <td>5</td>\n",
       "    </tr>\n",
       "    <tr>\n",
       "      <th>263663</th>\n",
       "      <td>C_ID_f008e08959</td>\n",
       "      <td>M_ID_5278375b22</td>\n",
       "      <td>1</td>\n",
       "    </tr>\n",
       "    <tr>\n",
       "      <th>263664</th>\n",
       "      <td>C_ID_f008e08959</td>\n",
       "      <td>M_ID_59764e8cb1</td>\n",
       "      <td>1</td>\n",
       "    </tr>\n",
       "    <tr>\n",
       "      <th>263665</th>\n",
       "      <td>C_ID_f008e08959</td>\n",
       "      <td>M_ID_641dbf98bd</td>\n",
       "      <td>1</td>\n",
       "    </tr>\n",
       "    <tr>\n",
       "      <th>263666</th>\n",
       "      <td>C_ID_f008e08959</td>\n",
       "      <td>M_ID_653706dbfb</td>\n",
       "      <td>3</td>\n",
       "    </tr>\n",
       "    <tr>\n",
       "      <th>263667</th>\n",
       "      <td>C_ID_f008e08959</td>\n",
       "      <td>M_ID_6b2b2c3ccd</td>\n",
       "      <td>1</td>\n",
       "    </tr>\n",
       "    <tr>\n",
       "      <th>263668</th>\n",
       "      <td>C_ID_f008e08959</td>\n",
       "      <td>M_ID_6cc1a7dd89</td>\n",
       "      <td>1</td>\n",
       "    </tr>\n",
       "    <tr>\n",
       "      <th>263669</th>\n",
       "      <td>C_ID_f008e08959</td>\n",
       "      <td>M_ID_7af451aea8</td>\n",
       "      <td>5</td>\n",
       "    </tr>\n",
       "    <tr>\n",
       "      <th>263670</th>\n",
       "      <td>C_ID_f008e08959</td>\n",
       "      <td>M_ID_85d02b8fc8</td>\n",
       "      <td>1</td>\n",
       "    </tr>\n",
       "    <tr>\n",
       "      <th>263671</th>\n",
       "      <td>C_ID_f008e08959</td>\n",
       "      <td>M_ID_8ffff4f992</td>\n",
       "      <td>1</td>\n",
       "    </tr>\n",
       "    <tr>\n",
       "      <th>263672</th>\n",
       "      <td>C_ID_f008e08959</td>\n",
       "      <td>M_ID_98c5faf0b3</td>\n",
       "      <td>1</td>\n",
       "    </tr>\n",
       "    <tr>\n",
       "      <th>263673</th>\n",
       "      <td>C_ID_f008e08959</td>\n",
       "      <td>M_ID_9953d7f1c4</td>\n",
       "      <td>1</td>\n",
       "    </tr>\n",
       "    <tr>\n",
       "      <th>263674</th>\n",
       "      <td>C_ID_f008e08959</td>\n",
       "      <td>M_ID_9cbbb5f795</td>\n",
       "      <td>1</td>\n",
       "    </tr>\n",
       "    <tr>\n",
       "      <th>263675</th>\n",
       "      <td>C_ID_f008e08959</td>\n",
       "      <td>M_ID_a3ee416a9f</td>\n",
       "      <td>3</td>\n",
       "    </tr>\n",
       "    <tr>\n",
       "      <th>263676</th>\n",
       "      <td>C_ID_f008e08959</td>\n",
       "      <td>M_ID_a8d64fb192</td>\n",
       "      <td>4</td>\n",
       "    </tr>\n",
       "    <tr>\n",
       "      <th>263677</th>\n",
       "      <td>C_ID_f008e08959</td>\n",
       "      <td>M_ID_b9eb712201</td>\n",
       "      <td>5</td>\n",
       "    </tr>\n",
       "    <tr>\n",
       "      <th>263678</th>\n",
       "      <td>C_ID_f008e08959</td>\n",
       "      <td>M_ID_bb1dc88ade</td>\n",
       "      <td>1</td>\n",
       "    </tr>\n",
       "    <tr>\n",
       "      <th>263679</th>\n",
       "      <td>C_ID_f008e08959</td>\n",
       "      <td>M_ID_bb2b010672</td>\n",
       "      <td>1</td>\n",
       "    </tr>\n",
       "    <tr>\n",
       "      <th>263680</th>\n",
       "      <td>C_ID_f008e08959</td>\n",
       "      <td>M_ID_bed7f676f8</td>\n",
       "      <td>1</td>\n",
       "    </tr>\n",
       "    <tr>\n",
       "      <th>263681</th>\n",
       "      <td>C_ID_f008e08959</td>\n",
       "      <td>M_ID_c856c12632</td>\n",
       "      <td>2</td>\n",
       "    </tr>\n",
       "    <tr>\n",
       "      <th>263682</th>\n",
       "      <td>C_ID_f008e08959</td>\n",
       "      <td>M_ID_d37ac37d03</td>\n",
       "      <td>2</td>\n",
       "    </tr>\n",
       "    <tr>\n",
       "      <th>263683</th>\n",
       "      <td>C_ID_f008e08959</td>\n",
       "      <td>M_ID_db34bf5098</td>\n",
       "      <td>1</td>\n",
       "    </tr>\n",
       "    <tr>\n",
       "      <th>263684</th>\n",
       "      <td>C_ID_f008e08959</td>\n",
       "      <td>M_ID_dd05ce22b2</td>\n",
       "      <td>3</td>\n",
       "    </tr>\n",
       "    <tr>\n",
       "      <th>263685</th>\n",
       "      <td>C_ID_f008e08959</td>\n",
       "      <td>M_ID_dfaa69cc9d</td>\n",
       "      <td>1</td>\n",
       "    </tr>\n",
       "    <tr>\n",
       "      <th>263686</th>\n",
       "      <td>C_ID_f008e08959</td>\n",
       "      <td>M_ID_e0afb8b0f4</td>\n",
       "      <td>1</td>\n",
       "    </tr>\n",
       "  </tbody>\n",
       "</table>\n",
       "</div>"
      ],
      "text/plain": [
       "                card_id      merchant_id  weight\n",
       "263658  C_ID_f008e08959  M_ID_00a6ca8a8a       4\n",
       "263659  C_ID_f008e08959  M_ID_00c2f2ad26       1\n",
       "263660  C_ID_f008e08959  M_ID_2394e530e2       1\n",
       "263661  C_ID_f008e08959  M_ID_36e0005381       1\n",
       "263662  C_ID_f008e08959  M_ID_45e0428325       5\n",
       "263663  C_ID_f008e08959  M_ID_5278375b22       1\n",
       "263664  C_ID_f008e08959  M_ID_59764e8cb1       1\n",
       "263665  C_ID_f008e08959  M_ID_641dbf98bd       1\n",
       "263666  C_ID_f008e08959  M_ID_653706dbfb       3\n",
       "263667  C_ID_f008e08959  M_ID_6b2b2c3ccd       1\n",
       "263668  C_ID_f008e08959  M_ID_6cc1a7dd89       1\n",
       "263669  C_ID_f008e08959  M_ID_7af451aea8       5\n",
       "263670  C_ID_f008e08959  M_ID_85d02b8fc8       1\n",
       "263671  C_ID_f008e08959  M_ID_8ffff4f992       1\n",
       "263672  C_ID_f008e08959  M_ID_98c5faf0b3       1\n",
       "263673  C_ID_f008e08959  M_ID_9953d7f1c4       1\n",
       "263674  C_ID_f008e08959  M_ID_9cbbb5f795       1\n",
       "263675  C_ID_f008e08959  M_ID_a3ee416a9f       3\n",
       "263676  C_ID_f008e08959  M_ID_a8d64fb192       4\n",
       "263677  C_ID_f008e08959  M_ID_b9eb712201       5\n",
       "263678  C_ID_f008e08959  M_ID_bb1dc88ade       1\n",
       "263679  C_ID_f008e08959  M_ID_bb2b010672       1\n",
       "263680  C_ID_f008e08959  M_ID_bed7f676f8       1\n",
       "263681  C_ID_f008e08959  M_ID_c856c12632       2\n",
       "263682  C_ID_f008e08959  M_ID_d37ac37d03       2\n",
       "263683  C_ID_f008e08959  M_ID_db34bf5098       1\n",
       "263684  C_ID_f008e08959  M_ID_dd05ce22b2       3\n",
       "263685  C_ID_f008e08959  M_ID_dfaa69cc9d       1\n",
       "263686  C_ID_f008e08959  M_ID_e0afb8b0f4       1"
      ]
     },
     "execution_count": 63,
     "metadata": {},
     "output_type": "execute_result"
    }
   ],
   "source": [
    "df_cid_mid_filtered[df_cid_mid_filtered.card_id=='C_ID_f008e08959']"
   ]
  },
  {
   "cell_type": "code",
   "execution_count": 62,
   "metadata": {},
   "outputs": [
    {
     "data": {
      "text/html": [
       "<div>\n",
       "<style scoped>\n",
       "    .dataframe tbody tr th:only-of-type {\n",
       "        vertical-align: middle;\n",
       "    }\n",
       "\n",
       "    .dataframe tbody tr th {\n",
       "        vertical-align: top;\n",
       "    }\n",
       "\n",
       "    .dataframe thead th {\n",
       "        text-align: right;\n",
       "    }\n",
       "</style>\n",
       "<table border=\"1\" class=\"dataframe\">\n",
       "  <thead>\n",
       "    <tr style=\"text-align: right;\">\n",
       "      <th></th>\n",
       "      <th>card_id</th>\n",
       "      <th>merchant_id</th>\n",
       "      <th>weight</th>\n",
       "    </tr>\n",
       "  </thead>\n",
       "  <tbody>\n",
       "    <tr>\n",
       "      <th>87</th>\n",
       "      <td>C_ID_0029d52418</td>\n",
       "      <td>M_ID_00a6ca8a8a</td>\n",
       "      <td>4</td>\n",
       "    </tr>\n",
       "    <tr>\n",
       "      <th>88</th>\n",
       "      <td>C_ID_0029d52418</td>\n",
       "      <td>M_ID_0e84b2e9d6</td>\n",
       "      <td>1</td>\n",
       "    </tr>\n",
       "    <tr>\n",
       "      <th>89</th>\n",
       "      <td>C_ID_0029d52418</td>\n",
       "      <td>M_ID_1440c83173</td>\n",
       "      <td>1</td>\n",
       "    </tr>\n",
       "    <tr>\n",
       "      <th>90</th>\n",
       "      <td>C_ID_0029d52418</td>\n",
       "      <td>M_ID_2637773dd2</td>\n",
       "      <td>1</td>\n",
       "    </tr>\n",
       "    <tr>\n",
       "      <th>91</th>\n",
       "      <td>C_ID_0029d52418</td>\n",
       "      <td>M_ID_2a89f77b14</td>\n",
       "      <td>1</td>\n",
       "    </tr>\n",
       "    <tr>\n",
       "      <th>92</th>\n",
       "      <td>C_ID_0029d52418</td>\n",
       "      <td>M_ID_3111c6df35</td>\n",
       "      <td>14</td>\n",
       "    </tr>\n",
       "    <tr>\n",
       "      <th>93</th>\n",
       "      <td>C_ID_0029d52418</td>\n",
       "      <td>M_ID_3700a4ec5f</td>\n",
       "      <td>26</td>\n",
       "    </tr>\n",
       "    <tr>\n",
       "      <th>94</th>\n",
       "      <td>C_ID_0029d52418</td>\n",
       "      <td>M_ID_497442dc4f</td>\n",
       "      <td>2</td>\n",
       "    </tr>\n",
       "    <tr>\n",
       "      <th>95</th>\n",
       "      <td>C_ID_0029d52418</td>\n",
       "      <td>M_ID_72949e0f75</td>\n",
       "      <td>1</td>\n",
       "    </tr>\n",
       "    <tr>\n",
       "      <th>96</th>\n",
       "      <td>C_ID_0029d52418</td>\n",
       "      <td>M_ID_820c7b73c8</td>\n",
       "      <td>1</td>\n",
       "    </tr>\n",
       "    <tr>\n",
       "      <th>97</th>\n",
       "      <td>C_ID_0029d52418</td>\n",
       "      <td>M_ID_852fbc04db</td>\n",
       "      <td>1</td>\n",
       "    </tr>\n",
       "    <tr>\n",
       "      <th>98</th>\n",
       "      <td>C_ID_0029d52418</td>\n",
       "      <td>M_ID_9054f69343</td>\n",
       "      <td>11</td>\n",
       "    </tr>\n",
       "    <tr>\n",
       "      <th>99</th>\n",
       "      <td>C_ID_0029d52418</td>\n",
       "      <td>M_ID_9139332ccc</td>\n",
       "      <td>6</td>\n",
       "    </tr>\n",
       "    <tr>\n",
       "      <th>100</th>\n",
       "      <td>C_ID_0029d52418</td>\n",
       "      <td>M_ID_a473d96131</td>\n",
       "      <td>4</td>\n",
       "    </tr>\n",
       "    <tr>\n",
       "      <th>101</th>\n",
       "      <td>C_ID_0029d52418</td>\n",
       "      <td>M_ID_aba8bed1f2</td>\n",
       "      <td>2</td>\n",
       "    </tr>\n",
       "    <tr>\n",
       "      <th>102</th>\n",
       "      <td>C_ID_0029d52418</td>\n",
       "      <td>M_ID_b77cb40122</td>\n",
       "      <td>1</td>\n",
       "    </tr>\n",
       "    <tr>\n",
       "      <th>103</th>\n",
       "      <td>C_ID_0029d52418</td>\n",
       "      <td>M_ID_b9f9332438</td>\n",
       "      <td>3</td>\n",
       "    </tr>\n",
       "    <tr>\n",
       "      <th>104</th>\n",
       "      <td>C_ID_0029d52418</td>\n",
       "      <td>M_ID_bc7d818511</td>\n",
       "      <td>1</td>\n",
       "    </tr>\n",
       "    <tr>\n",
       "      <th>105</th>\n",
       "      <td>C_ID_0029d52418</td>\n",
       "      <td>M_ID_e5374dabc0</td>\n",
       "      <td>274</td>\n",
       "    </tr>\n",
       "    <tr>\n",
       "      <th>106</th>\n",
       "      <td>C_ID_0029d52418</td>\n",
       "      <td>M_ID_ef87dd1879</td>\n",
       "      <td>12</td>\n",
       "    </tr>\n",
       "    <tr>\n",
       "      <th>107</th>\n",
       "      <td>C_ID_0029d52418</td>\n",
       "      <td>M_ID_f86439cec0</td>\n",
       "      <td>3</td>\n",
       "    </tr>\n",
       "    <tr>\n",
       "      <th>108</th>\n",
       "      <td>C_ID_0029d52418</td>\n",
       "      <td>M_ID_fc7d7969c3</td>\n",
       "      <td>7</td>\n",
       "    </tr>\n",
       "    <tr>\n",
       "      <th>109</th>\n",
       "      <td>C_ID_0029d52418</td>\n",
       "      <td>M_ID_fd87796d9e</td>\n",
       "      <td>1</td>\n",
       "    </tr>\n",
       "  </tbody>\n",
       "</table>\n",
       "</div>"
      ],
      "text/plain": [
       "             card_id      merchant_id  weight\n",
       "87   C_ID_0029d52418  M_ID_00a6ca8a8a       4\n",
       "88   C_ID_0029d52418  M_ID_0e84b2e9d6       1\n",
       "89   C_ID_0029d52418  M_ID_1440c83173       1\n",
       "90   C_ID_0029d52418  M_ID_2637773dd2       1\n",
       "91   C_ID_0029d52418  M_ID_2a89f77b14       1\n",
       "92   C_ID_0029d52418  M_ID_3111c6df35      14\n",
       "93   C_ID_0029d52418  M_ID_3700a4ec5f      26\n",
       "94   C_ID_0029d52418  M_ID_497442dc4f       2\n",
       "95   C_ID_0029d52418  M_ID_72949e0f75       1\n",
       "96   C_ID_0029d52418  M_ID_820c7b73c8       1\n",
       "97   C_ID_0029d52418  M_ID_852fbc04db       1\n",
       "98   C_ID_0029d52418  M_ID_9054f69343      11\n",
       "99   C_ID_0029d52418  M_ID_9139332ccc       6\n",
       "100  C_ID_0029d52418  M_ID_a473d96131       4\n",
       "101  C_ID_0029d52418  M_ID_aba8bed1f2       2\n",
       "102  C_ID_0029d52418  M_ID_b77cb40122       1\n",
       "103  C_ID_0029d52418  M_ID_b9f9332438       3\n",
       "104  C_ID_0029d52418  M_ID_bc7d818511       1\n",
       "105  C_ID_0029d52418  M_ID_e5374dabc0     274\n",
       "106  C_ID_0029d52418  M_ID_ef87dd1879      12\n",
       "107  C_ID_0029d52418  M_ID_f86439cec0       3\n",
       "108  C_ID_0029d52418  M_ID_fc7d7969c3       7\n",
       "109  C_ID_0029d52418  M_ID_fd87796d9e       1"
      ]
     },
     "execution_count": 62,
     "metadata": {},
     "output_type": "execute_result"
    }
   ],
   "source": [
    "df_cid_mid_filtered[df_cid_mid_filtered.card_id=='C_ID_0029d52418']"
   ]
  },
  {
   "cell_type": "code",
   "execution_count": 42,
   "metadata": {},
   "outputs": [],
   "source": [
    "import networkx as nx"
   ]
  },
  {
   "cell_type": "code",
   "execution_count": 43,
   "metadata": {},
   "outputs": [],
   "source": [
    "G=nx.from_pandas_edgelist(df_cid_mid_filtered,'card_id', 'merchant_id', ['weight'])"
   ]
  },
  {
   "cell_type": "code",
   "execution_count": 44,
   "metadata": {},
   "outputs": [],
   "source": [
    "#Create dicts for bipartite attributes\n",
    "my_dict = {}\n",
    "for i in list(df_cid_mid_filtered.card_id.unique()):\n",
    "    my_dict[i] = 0\n",
    "\n",
    "my_dict2 = {}\n",
    "for i in list(df_cid_mid_filtered.merchant_id.unique()):\n",
    "    my_dict2[i] = 1"
   ]
  },
  {
   "cell_type": "code",
   "execution_count": 45,
   "metadata": {},
   "outputs": [],
   "source": [
    "nx.set_node_attributes(G, my_dict,'bipartite')\n",
    "nx.set_node_attributes(G, my_dict2,'bipartite')"
   ]
  },
  {
   "cell_type": "code",
   "execution_count": 46,
   "metadata": {},
   "outputs": [],
   "source": [
    "nx.write_gpickle(G, \"CID_MID_filtered.gpickle\")"
   ]
  },
  {
   "cell_type": "code",
   "execution_count": 48,
   "metadata": {},
   "outputs": [],
   "source": [
    "def my_weight(G, u, v, weight='weight'):\n",
    "    w = 0\n",
    "    for nbr in set(G[u]) & set(G[v]):\n",
    "        w += G.edges[u,nbr].get(weight, 1) + G.edges[v,nbr].get(weight, 1)\n",
    "        return w"
   ]
  },
  {
   "cell_type": "code",
   "execution_count": 66,
   "metadata": {},
   "outputs": [],
   "source": [
    "#Customer projection -1\n",
    "CP1 = nx.bipartite.generic_weighted_projected_graph(G,list(df_cid_mid_filtered.card_id.unique())[1:100],weight_function=my_weight)"
   ]
  },
  {
   "cell_type": "code",
   "execution_count": 56,
   "metadata": {},
   "outputs": [],
   "source": [
    "nx.write_gpickle(CP1, \"CP1_test.gpickle\")"
   ]
  },
  {
   "cell_type": "code",
   "execution_count": 67,
   "metadata": {},
   "outputs": [
    {
     "name": "stderr",
     "output_type": "stream",
     "text": [
      "C:\\Users\\akhilkandregula\\Anaconda3\\lib\\site-packages\\networkx\\drawing\\nx_pylab.py:611: MatplotlibDeprecationWarning: isinstance(..., numbers.Number)\n",
      "  if cb.is_numlike(alpha):\n"
     ]
    },
    {
     "data": {
      "image/png": "[encoded data removed]",
      "text/plain": [
       "<Figure size 432x288 with 1 Axes>"
      ]
     },
     "metadata": {},
     "output_type": "display_data"
    }
   ],
   "source": [
    "# Separate by group\n",
    "#l, r = nx.bipartite.sets(CP1)\n",
    "#l,r=list(df_cid_mid_filtered.card_id.unique()),list(df_cid_mid_filtered.merchant_id.unique())\n",
    "#pos = {}\n",
    "\n",
    "# Update position for node from each group\n",
    "#pos.update((node, (1, index)) for index, node in enumerate(l))\n",
    "#pos.update((node, (2, index)) for index, node in enumerate(r))\n",
    "\n",
    "nx.draw(CP1,with_labels = False,size=0.1,pos=nx.spring_layout(CP1))\n",
    "plt.show()"
   ]
  },
  {
   "cell_type": "code",
   "execution_count": null,
   "metadata": {},
   "outputs": [],
   "source": []
  },
  {
   "cell_type": "code",
   "execution_count": null,
   "metadata": {},
   "outputs": [],
   "source": []
  },
  {
   "cell_type": "code",
   "execution_count": null,
   "metadata": {},
   "outputs": [],
   "source": []
  },
  {
   "cell_type": "code",
   "execution_count": null,
   "metadata": {},
   "outputs": [],
   "source": []
  },
  {
   "cell_type": "code",
   "execution_count": null,
   "metadata": {},
   "outputs": [],
   "source": []
  },
  {
   "cell_type": "code",
   "execution_count": 35,
   "metadata": {},
   "outputs": [],
   "source": [
    "fil_merch=hist_trans.groupby(['merchant_id']).agg({'purchase_amount':['sum','count']})\n",
    "fil_merch.columns=['_'.join(col).strip() for col in fil_merch.columns.values]\n",
    "fil_merch.reset_index(inplace=True)\n",
    "#.reset_index().sort_values(['purchase_amount'])"
   ]
  },
  {
   "cell_type": "code",
   "execution_count": null,
   "metadata": {},
   "outputs": [],
   "source": [
    "fil_merch.head()"
   ]
  },
  {
   "cell_type": "code",
   "execution_count": 36,
   "metadata": {},
   "outputs": [],
   "source": [
    "#fil_merch/fil_merch.apply('sum',axis=0)"
   ]
  },
  {
   "cell_type": "code",
   "execution_count": 14,
   "metadata": {},
   "outputs": [
    {
     "data": {
      "text/plain": [
       "category_1    28\n",
       "category_3    21\n",
       "category_2    20\n",
       "dtype: int64"
      ]
     },
     "execution_count": 14,
     "metadata": {},
     "output_type": "execute_result"
    }
   ],
   "source": [
    "hist_trans.loc[:,['category_1','category_3','category_2']].drop_duplicates().count()"
   ]
  },
  {
   "cell_type": "code",
   "execution_count": 25,
   "metadata": {},
   "outputs": [
    {
     "data": {
      "text/plain": [
       "<matplotlib.axes._subplots.AxesSubplot at 0x1f4edf575f8>"
      ]
     },
     "execution_count": 25,
     "metadata": {},
     "output_type": "execute_result"
    },
    {
     "data": {
      "image/png": "[encoded data removed]",
      "text/plain": [
       "<Figure size 432x288 with 1 Axes>"
      ]
     },
     "metadata": {
      "needs_background": "light"
     },
     "output_type": "display_data"
    }
   ],
   "source": [
    "import matplotlib.pyplot as plt\n",
    "hist_trans[hist_trans.purchase_amount<2].purchase_amount.hist(bins=100)"
   ]
  },
  {
   "cell_type": "code",
   "execution_count": 12,
   "metadata": {},
   "outputs": [
    {
     "data": {
      "text/plain": [
       "(327, 325540)"
      ]
     },
     "execution_count": 12,
     "metadata": {},
     "output_type": "execute_result"
    }
   ],
   "source": [
    "len(hist_trans.merchant_category_id.unique()),len(hist_trans.card_id.unique())\n",
    "#hist_trans.merchant_id.value_counts()"
   ]
  },
  {
   "cell_type": "code",
   "execution_count": null,
   "metadata": {},
   "outputs": [],
   "source": [
    "#merchants = pd.read_csv('../input/merchants.csv')"
   ]
  },
  {
   "cell_type": "code",
   "execution_count": null,
   "metadata": {},
   "outputs": [],
   "source": [
    "#merchants.head()"
   ]
  },
  {
   "cell_type": "code",
   "execution_count": null,
   "metadata": {},
   "outputs": [],
   "source": [
    "#len(merchants.merchant_id.unique()),len(merchants.merchant_group_id.unique()),len(merchants.merchant_category_id.unique())"
   ]
  },
  {
   "cell_type": "code",
   "execution_count": null,
   "metadata": {},
   "outputs": [],
   "source": [
    "#merchants.merchant_group_id.value_counts().plot(kind='bar')\n",
    "#ak[ak>100].hist(bins=10)"
   ]
  },
  {
   "cell_type": "code",
   "execution_count": null,
   "metadata": {},
   "outputs": [],
   "source": [
    "#nm"
   ]
  },
  {
   "cell_type": "code",
   "execution_count": null,
   "metadata": {},
   "outputs": [],
   "source": [
    "#nm=merchants.loc[:,['merchant_id','merchant_group_id','merchant_category_id']]"
   ]
  },
  {
   "cell_type": "code",
   "execution_count": null,
   "metadata": {},
   "outputs": [],
   "source": [
    "#nm.drop_duplicates().count()\n",
    "#nm.loc[:,['merchant_id','merchant_group_id']].drop_duplicates().count(),nm.loc[:,['merchant_id']].drop_duplicates().count()"
   ]
  },
  {
   "cell_type": "code",
   "execution_count": 6,
   "metadata": {},
   "outputs": [
    {
     "data": {
      "text/html": [
       "<div>\n",
       "<style scoped>\n",
       "    .dataframe tbody tr th:only-of-type {\n",
       "        vertical-align: middle;\n",
       "    }\n",
       "\n",
       "    .dataframe tbody tr th {\n",
       "        vertical-align: top;\n",
       "    }\n",
       "\n",
       "    .dataframe thead th {\n",
       "        text-align: right;\n",
       "    }\n",
       "</style>\n",
       "<table border=\"1\" class=\"dataframe\">\n",
       "  <thead>\n",
       "    <tr style=\"text-align: right;\">\n",
       "      <th></th>\n",
       "      <th>card_id</th>\n",
       "      <th>merchant_id</th>\n",
       "      <th>weight</th>\n",
       "    </tr>\n",
       "  </thead>\n",
       "  <tbody>\n",
       "    <tr>\n",
       "      <th>0</th>\n",
       "      <td>C_ID_00007093c1</td>\n",
       "      <td>M_ID_0379adb435</td>\n",
       "      <td>4</td>\n",
       "    </tr>\n",
       "    <tr>\n",
       "      <th>1</th>\n",
       "      <td>C_ID_00007093c1</td>\n",
       "      <td>M_ID_06a8d84366</td>\n",
       "      <td>1</td>\n",
       "    </tr>\n",
       "    <tr>\n",
       "      <th>2</th>\n",
       "      <td>C_ID_00007093c1</td>\n",
       "      <td>M_ID_0dabc5a70c</td>\n",
       "      <td>2</td>\n",
       "    </tr>\n",
       "    <tr>\n",
       "      <th>3</th>\n",
       "      <td>C_ID_00007093c1</td>\n",
       "      <td>M_ID_109e9d2b1d</td>\n",
       "      <td>2</td>\n",
       "    </tr>\n",
       "    <tr>\n",
       "      <th>4</th>\n",
       "      <td>C_ID_00007093c1</td>\n",
       "      <td>M_ID_15446e939c</td>\n",
       "      <td>4</td>\n",
       "    </tr>\n",
       "  </tbody>\n",
       "</table>\n",
       "</div>"
      ],
      "text/plain": [
       "           card_id      merchant_id  weight\n",
       "0  C_ID_00007093c1  M_ID_0379adb435       4\n",
       "1  C_ID_00007093c1  M_ID_06a8d84366       1\n",
       "2  C_ID_00007093c1  M_ID_0dabc5a70c       2\n",
       "3  C_ID_00007093c1  M_ID_109e9d2b1d       2\n",
       "4  C_ID_00007093c1  M_ID_15446e939c       4"
      ]
     },
     "execution_count": 6,
     "metadata": {},
     "output_type": "execute_result"
    }
   ],
   "source": [
    "df_cid_mid=hist_trans.loc[:,['card_id','merchant_id']]\n",
    "#df_cid_mid.drop_duplicates(inplace=True)\n",
    "df_cid_mid.dropna(inplace=True)\n",
    "df_cid_mid['weight']=1\n",
    "df_cid_mid=df_cid_mid.groupby(['card_id','merchant_id']).agg({'weight':'count'})\n",
    "df_cid_mid.columns = [''.join(col).strip() for col in df_cid_mid.columns.values]\n",
    "df_cid_mid.reset_index(inplace=True)\n",
    "#\n",
    "df_cid_mid.head()"
   ]
  },
  {
   "cell_type": "code",
   "execution_count": 10,
   "metadata": {},
   "outputs": [
    {
     "data": {
      "text/plain": [
       "((10981505, 3), (10981505, 3), (10981505, 3))"
      ]
     },
     "execution_count": 10,
     "metadata": {},
     "output_type": "execute_result"
    }
   ],
   "source": [
    "df_cid_mid.shape,df_cid_mid.dropna().shape,df_cid_mid.drop_duplicates().shape"
   ]
  },
  {
   "cell_type": "code",
   "execution_count": 11,
   "metadata": {},
   "outputs": [
    {
     "data": {
      "text/html": [
       "<div>\n",
       "<style scoped>\n",
       "    .dataframe tbody tr th:only-of-type {\n",
       "        vertical-align: middle;\n",
       "    }\n",
       "\n",
       "    .dataframe tbody tr th {\n",
       "        vertical-align: top;\n",
       "    }\n",
       "\n",
       "    .dataframe thead th {\n",
       "        text-align: right;\n",
       "    }\n",
       "</style>\n",
       "<table border=\"1\" class=\"dataframe\">\n",
       "  <thead>\n",
       "    <tr style=\"text-align: right;\">\n",
       "      <th></th>\n",
       "      <th>card_id</th>\n",
       "      <th>merchant_id</th>\n",
       "      <th>weight</th>\n",
       "    </tr>\n",
       "  </thead>\n",
       "  <tbody>\n",
       "    <tr>\n",
       "      <th>631859</th>\n",
       "      <td>C_ID_0ebfe3f006</td>\n",
       "      <td>M_ID_9f65cd13d1</td>\n",
       "      <td>2</td>\n",
       "    </tr>\n",
       "    <tr>\n",
       "      <th>794103</th>\n",
       "      <td>C_ID_128b9fca87</td>\n",
       "      <td>M_ID_9f65cd13d1</td>\n",
       "      <td>2</td>\n",
       "    </tr>\n",
       "    <tr>\n",
       "      <th>1432580</th>\n",
       "      <td>C_ID_215436c7ce</td>\n",
       "      <td>M_ID_9f65cd13d1</td>\n",
       "      <td>1</td>\n",
       "    </tr>\n",
       "    <tr>\n",
       "      <th>1917978</th>\n",
       "      <td>C_ID_2c95c2965e</td>\n",
       "      <td>M_ID_9f65cd13d1</td>\n",
       "      <td>2</td>\n",
       "    </tr>\n",
       "    <tr>\n",
       "      <th>2166992</th>\n",
       "      <td>C_ID_325f2f1a8f</td>\n",
       "      <td>M_ID_9f65cd13d1</td>\n",
       "      <td>1</td>\n",
       "    </tr>\n",
       "    <tr>\n",
       "      <th>3734168</th>\n",
       "      <td>C_ID_5701713924</td>\n",
       "      <td>M_ID_9f65cd13d1</td>\n",
       "      <td>2</td>\n",
       "    </tr>\n",
       "    <tr>\n",
       "      <th>4109283</th>\n",
       "      <td>C_ID_5fb5a324ab</td>\n",
       "      <td>M_ID_9f65cd13d1</td>\n",
       "      <td>1</td>\n",
       "    </tr>\n",
       "    <tr>\n",
       "      <th>5126519</th>\n",
       "      <td>C_ID_77450d0b62</td>\n",
       "      <td>M_ID_9f65cd13d1</td>\n",
       "      <td>1</td>\n",
       "    </tr>\n",
       "    <tr>\n",
       "      <th>5228118</th>\n",
       "      <td>C_ID_79bc868f9e</td>\n",
       "      <td>M_ID_9f65cd13d1</td>\n",
       "      <td>4</td>\n",
       "    </tr>\n",
       "    <tr>\n",
       "      <th>6244677</th>\n",
       "      <td>C_ID_9129cd2ed4</td>\n",
       "      <td>M_ID_9f65cd13d1</td>\n",
       "      <td>1</td>\n",
       "    </tr>\n",
       "    <tr>\n",
       "      <th>6838211</th>\n",
       "      <td>C_ID_9f18852174</td>\n",
       "      <td>M_ID_9f65cd13d1</td>\n",
       "      <td>3</td>\n",
       "    </tr>\n",
       "    <tr>\n",
       "      <th>6864882</th>\n",
       "      <td>C_ID_9fabcf8705</td>\n",
       "      <td>M_ID_9f65cd13d1</td>\n",
       "      <td>1</td>\n",
       "    </tr>\n",
       "    <tr>\n",
       "      <th>7941518</th>\n",
       "      <td>C_ID_b8cfe9e63e</td>\n",
       "      <td>M_ID_9f65cd13d1</td>\n",
       "      <td>1</td>\n",
       "    </tr>\n",
       "  </tbody>\n",
       "</table>\n",
       "</div>"
      ],
      "text/plain": [
       "                 card_id      merchant_id  weight\n",
       "631859   C_ID_0ebfe3f006  M_ID_9f65cd13d1       2\n",
       "794103   C_ID_128b9fca87  M_ID_9f65cd13d1       2\n",
       "1432580  C_ID_215436c7ce  M_ID_9f65cd13d1       1\n",
       "1917978  C_ID_2c95c2965e  M_ID_9f65cd13d1       2\n",
       "2166992  C_ID_325f2f1a8f  M_ID_9f65cd13d1       1\n",
       "3734168  C_ID_5701713924  M_ID_9f65cd13d1       2\n",
       "4109283  C_ID_5fb5a324ab  M_ID_9f65cd13d1       1\n",
       "5126519  C_ID_77450d0b62  M_ID_9f65cd13d1       1\n",
       "5228118  C_ID_79bc868f9e  M_ID_9f65cd13d1       4\n",
       "6244677  C_ID_9129cd2ed4  M_ID_9f65cd13d1       1\n",
       "6838211  C_ID_9f18852174  M_ID_9f65cd13d1       3\n",
       "6864882  C_ID_9fabcf8705  M_ID_9f65cd13d1       1\n",
       "7941518  C_ID_b8cfe9e63e  M_ID_9f65cd13d1       1"
      ]
     },
     "execution_count": 11,
     "metadata": {},
     "output_type": "execute_result"
    }
   ],
   "source": [
    "df_cid_mid[df_cid_mid['merchant_id']=='M_ID_9f65cd13d1']"
   ]
  },
  {
   "cell_type": "code",
   "execution_count": 8,
   "metadata": {},
   "outputs": [
    {
     "data": {
      "text/plain": [
       "(6746414, 3)"
      ]
     },
     "execution_count": 8,
     "metadata": {},
     "output_type": "execute_result"
    }
   ],
   "source": [
    "df_cid_mid[df_cid_mid['weight']==1].shape"
   ]
  },
  {
   "cell_type": "code",
   "execution_count": 12,
   "metadata": {},
   "outputs": [],
   "source": [
    "df_cid_mid.to_csv('card_merchant.csv',index=False)"
   ]
  },
  {
   "cell_type": "code",
   "execution_count": null,
   "metadata": {},
   "outputs": [],
   "source": [
    "# apk=df_cid_mid.groupby('merchant_id').agg({'card_id':'count'}).reset_index()\n",
    "# apk.head()\n",
    "\n",
    "# apk=df_cid_mid.groupby('card_id').agg({'merchant_id':'count'}).reset_index()\n",
    "# apk.head()"
   ]
  },
  {
   "cell_type": "code",
   "execution_count": null,
   "metadata": {},
   "outputs": [],
   "source": [
    "#apk[apk.merchant_id<20].merchant_id.hist(bins=100)"
   ]
  },
  {
   "cell_type": "code",
   "execution_count": 16,
   "metadata": {},
   "outputs": [
    {
     "data": {
      "text/html": [
       "<div>\n",
       "<style scoped>\n",
       "    .dataframe tbody tr th:only-of-type {\n",
       "        vertical-align: middle;\n",
       "    }\n",
       "\n",
       "    .dataframe tbody tr th {\n",
       "        vertical-align: top;\n",
       "    }\n",
       "\n",
       "    .dataframe thead th {\n",
       "        text-align: right;\n",
       "    }\n",
       "</style>\n",
       "<table border=\"1\" class=\"dataframe\">\n",
       "  <thead>\n",
       "    <tr style=\"text-align: right;\">\n",
       "      <th></th>\n",
       "      <th>merchant_id</th>\n",
       "      <th>merchant_category_id</th>\n",
       "      <th>weight</th>\n",
       "    </tr>\n",
       "  </thead>\n",
       "  <tbody>\n",
       "    <tr>\n",
       "      <th>0</th>\n",
       "      <td>M_ID_000025127f</td>\n",
       "      <td>80</td>\n",
       "      <td>9</td>\n",
       "    </tr>\n",
       "    <tr>\n",
       "      <th>1</th>\n",
       "      <td>M_ID_0000699140</td>\n",
       "      <td>87</td>\n",
       "      <td>57</td>\n",
       "    </tr>\n",
       "    <tr>\n",
       "      <th>2</th>\n",
       "      <td>M_ID_00006a5552</td>\n",
       "      <td>178</td>\n",
       "      <td>1</td>\n",
       "    </tr>\n",
       "    <tr>\n",
       "      <th>3</th>\n",
       "      <td>M_ID_000087311e</td>\n",
       "      <td>206</td>\n",
       "      <td>15</td>\n",
       "    </tr>\n",
       "    <tr>\n",
       "      <th>4</th>\n",
       "      <td>M_ID_000087311e</td>\n",
       "      <td>748</td>\n",
       "      <td>7</td>\n",
       "    </tr>\n",
       "  </tbody>\n",
       "</table>\n",
       "</div>"
      ],
      "text/plain": [
       "       merchant_id  merchant_category_id  weight\n",
       "0  M_ID_000025127f                    80       9\n",
       "1  M_ID_0000699140                    87      57\n",
       "2  M_ID_00006a5552                   178       1\n",
       "3  M_ID_000087311e                   206      15\n",
       "4  M_ID_000087311e                   748       7"
      ]
     },
     "execution_count": 16,
     "metadata": {},
     "output_type": "execute_result"
    }
   ],
   "source": [
    "df_mid_mcid=hist_trans.loc[:,['merchant_id','merchant_category_id']]\n",
    "df_mid_mcid.dropna(inplace=True)\n",
    "df_mid_mcid['weight']=1\n",
    "df_mid_mcid=df_mid_mcid.groupby(['merchant_id','merchant_category_id']).agg({'weight':'count'})\n",
    "df_mid_mcid.columns = [''.join(col).strip() for col in df_mid_mcid.columns.values]\n",
    "df_mid_mcid.reset_index(inplace=True)\n",
    "#df_mid_mcid.to_csv('merchant_category.csv',index=False)\n",
    "df_mid_mcid.head()"
   ]
  },
  {
   "cell_type": "code",
   "execution_count": 17,
   "metadata": {},
   "outputs": [],
   "source": [
    "df_mid_mcid.to_csv('merchant_category.csv',index=False)"
   ]
  },
  {
   "cell_type": "code",
   "execution_count": null,
   "metadata": {},
   "outputs": [],
   "source": [
    "# df_mid_mcid.drop_duplicates(inplace=True)\n",
    "# df_mid_mcid.dropna(inplace=True)\n",
    "# df_mid_mcid.count()"
   ]
  },
  {
   "cell_type": "code",
   "execution_count": 15,
   "metadata": {},
   "outputs": [
    {
     "data": {
      "text/html": [
       "<div>\n",
       "<style scoped>\n",
       "    .dataframe tbody tr th:only-of-type {\n",
       "        vertical-align: middle;\n",
       "    }\n",
       "\n",
       "    .dataframe tbody tr th {\n",
       "        vertical-align: top;\n",
       "    }\n",
       "\n",
       "    .dataframe thead th {\n",
       "        text-align: right;\n",
       "    }\n",
       "</style>\n",
       "<table border=\"1\" class=\"dataframe\">\n",
       "  <thead>\n",
       "    <tr style=\"text-align: right;\">\n",
       "      <th></th>\n",
       "      <th>card_id</th>\n",
       "      <th>merchant_id</th>\n",
       "      <th>weight</th>\n",
       "    </tr>\n",
       "  </thead>\n",
       "  <tbody>\n",
       "    <tr>\n",
       "      <th>0</th>\n",
       "      <td>C_ID_00007093c1</td>\n",
       "      <td>M_ID_0379adb435</td>\n",
       "      <td>4</td>\n",
       "    </tr>\n",
       "    <tr>\n",
       "      <th>1</th>\n",
       "      <td>C_ID_00007093c1</td>\n",
       "      <td>M_ID_06a8d84366</td>\n",
       "      <td>1</td>\n",
       "    </tr>\n",
       "    <tr>\n",
       "      <th>2</th>\n",
       "      <td>C_ID_00007093c1</td>\n",
       "      <td>M_ID_0dabc5a70c</td>\n",
       "      <td>2</td>\n",
       "    </tr>\n",
       "    <tr>\n",
       "      <th>3</th>\n",
       "      <td>C_ID_00007093c1</td>\n",
       "      <td>M_ID_109e9d2b1d</td>\n",
       "      <td>2</td>\n",
       "    </tr>\n",
       "    <tr>\n",
       "      <th>4</th>\n",
       "      <td>C_ID_00007093c1</td>\n",
       "      <td>M_ID_15446e939c</td>\n",
       "      <td>4</td>\n",
       "    </tr>\n",
       "  </tbody>\n",
       "</table>\n",
       "</div>"
      ],
      "text/plain": [
       "           card_id      merchant_id  weight\n",
       "0  C_ID_00007093c1  M_ID_0379adb435       4\n",
       "1  C_ID_00007093c1  M_ID_06a8d84366       1\n",
       "2  C_ID_00007093c1  M_ID_0dabc5a70c       2\n",
       "3  C_ID_00007093c1  M_ID_109e9d2b1d       2\n",
       "4  C_ID_00007093c1  M_ID_15446e939c       4"
      ]
     },
     "execution_count": 15,
     "metadata": {},
     "output_type": "execute_result"
    }
   ],
   "source": [
    "df_cid_mid.head()"
   ]
  },
  {
   "cell_type": "code",
   "execution_count": 18,
   "metadata": {},
   "outputs": [],
   "source": [
    "import networkx as nx\n",
    "import matplotlib.pyplot as plt"
   ]
  },
  {
   "cell_type": "code",
   "execution_count": null,
   "metadata": {},
   "outputs": [],
   "source": [
    "#list(df_cid_mid.card_id.unique())\n",
    "#tuple(df_cid_mid.iloc[1,:].values)"
   ]
  },
  {
   "cell_type": "code",
   "execution_count": 19,
   "metadata": {},
   "outputs": [],
   "source": [
    "from tqdm import tqdm"
   ]
  },
  {
   "cell_type": "code",
   "execution_count": null,
   "metadata": {},
   "outputs": [],
   "source": [
    "#edges=[tuple(df_cid_mid.iloc[i,:].values) for i in tqdm(range(len(df_cid_mid.iloc[:,:])))]"
   ]
  },
  {
   "cell_type": "code",
   "execution_count": 20,
   "metadata": {},
   "outputs": [],
   "source": [
    "G=nx.from_pandas_edgelist(df_cid_mid,'card_id', 'merchant_id', ['weight'])"
   ]
  },
  {
   "cell_type": "code",
   "execution_count": 21,
   "metadata": {},
   "outputs": [],
   "source": [
    "#Create dicts for bipartite attributes\n",
    "my_dict = {}\n",
    "for i in list(df_cid_mid.card_id.unique()):\n",
    "    my_dict[i] = 0\n",
    "\n",
    "my_dict2 = {}\n",
    "for i in list(df_cid_mid.merchant_id.unique()):\n",
    "    my_dict2[i] = 1\n"
   ]
  },
  {
   "cell_type": "code",
   "execution_count": 22,
   "metadata": {},
   "outputs": [
    {
     "data": {
      "text/plain": [
       "(651851, 651851)"
      ]
     },
     "execution_count": 22,
     "metadata": {},
     "output_type": "execute_result"
    }
   ],
   "source": [
    "len(list(G.nodes)),len(list(df_cid_mid.card_id.unique()))+len(list(df_cid_mid.merchant_id.unique()))"
   ]
  },
  {
   "cell_type": "code",
   "execution_count": null,
   "metadata": {},
   "outputs": [],
   "source": [
    "#list(df_cid_mid.merchant_id.unique())[-15:-1]"
   ]
  },
  {
   "cell_type": "code",
   "execution_count": 23,
   "metadata": {},
   "outputs": [],
   "source": [
    "nx.set_node_attributes(G, my_dict,'bipartite')"
   ]
  },
  {
   "cell_type": "code",
   "execution_count": 24,
   "metadata": {},
   "outputs": [],
   "source": [
    "nx.set_node_attributes(G, my_dict2,'bipartite')"
   ]
  },
  {
   "cell_type": "code",
   "execution_count": 25,
   "metadata": {},
   "outputs": [],
   "source": [
    "nx.write_gpickle(G, \"CID_MID.gpickle\")"
   ]
  },
  {
   "cell_type": "code",
   "execution_count": 26,
   "metadata": {},
   "outputs": [],
   "source": [
    "def my_weight(G, u, v, weight='weight'):\n",
    "    w = 0\n",
    "    for nbr in set(G[u]) & set(G[v]):\n",
    "        w += G.edges[u,nbr].get(weight, 1) + G.edges[v,nbr].get(weight, 1)\n",
    "        return w"
   ]
  },
  {
   "cell_type": "code",
   "execution_count": null,
   "metadata": {},
   "outputs": [],
   "source": [
    "#G=nx.from_pandas_edgelist(df_cid_mid,'card_id', 'merchant_id', ['count'])\n",
    "\n",
    "#Customer projection -1\n",
    "CP1 = nx.bipartite.generic_weighted_projected_graph(G,list(df_cid_mid.card_id.unique()),weight_function=my_weight)"
   ]
  },
  {
   "cell_type": "code",
   "execution_count": null,
   "metadata": {},
   "outputs": [],
   "source": [
    "nx.write_gpickle(CP1, \"CP1.gpickle\")"
   ]
  },
  {
   "cell_type": "code",
   "execution_count": null,
   "metadata": {},
   "outputs": [],
   "source": [
    "# Separate by group\n",
    "#l, r = nx.bipartite.sets(G)\n",
    "l,r=list(df_cid_mid.card_id.unique()),list(df_cid_mid.merchant_id.unique())\n",
    "pos = {}\n",
    "\n",
    "# Update position for node from each group\n",
    "pos.update((node, (1, index)) for index, node in enumerate(l))\n",
    "pos.update((node, (2, index)) for index, node in enumerate(r))\n",
    "\n",
    "nx.draw(G, pos=pos)\n",
    "plt.show()"
   ]
  },
  {
   "cell_type": "code",
   "execution_count": null,
   "metadata": {},
   "outputs": [],
   "source": [
    "bk"
   ]
  },
  {
   "cell_type": "code",
   "execution_count": null,
   "metadata": {},
   "outputs": [],
   "source": [
    "#G['C_ID_4e6213e9bc']['M_ID_e020e9b302']\n",
    "G.nodes['C_ID_4e6213e9bc']['bipartite']\n",
    "G.nodes['M_ID_e020e9b302']['bipartite']"
   ]
  },
  {
   "cell_type": "code",
   "execution_count": null,
   "metadata": {},
   "outputs": [],
   "source": [
    "df.set_index('ID').T.to_dict('list')"
   ]
  },
  {
   "cell_type": "code",
   "execution_count": null,
   "metadata": {},
   "outputs": [],
   "source": [
    "df_cid_mid.head(10)"
   ]
  },
  {
   "cell_type": "code",
   "execution_count": null,
   "metadata": {},
   "outputs": [],
   "source": [
    "C=nx.Graph()\n",
    "C.add_nodes_from(list(df_cid_mid.card_id.unique()), bipartite=0) # Add the node attribute \"bipartite\""
   ]
  },
  {
   "cell_type": "code",
   "execution_count": null,
   "metadata": {},
   "outputs": [],
   "source": [
    "C.add_nodes_from(list(df_cid_mid.merchant_id.unique()), bipartite=1) # Add the node attribute \"bipartite\""
   ]
  },
  {
   "cell_type": "code",
   "execution_count": null,
   "metadata": {},
   "outputs": [],
   "source": [
    "C.add_weighted_edges_from(edges) ## Added edges"
   ]
  },
  {
   "cell_type": "code",
   "execution_count": null,
   "metadata": {},
   "outputs": [],
   "source": [
    "B.nodes['a']['bipartite']"
   ]
  },
  {
   "cell_type": "code",
   "execution_count": null,
   "metadata": {},
   "outputs": [],
   "source": [
    "B = nx.Graph()\n",
    "B.add_nodes_from([1,2,3,4], bipartite=0) # Add the node attribute \"bipartite\"\n",
    "B.add_nodes_from(['a','b','c'], bipartite=1)\n",
    "B.add_edges_from([(1,'a'), (1,'b'), (2,'b'), (2,'c'), (3,'c'), (4,'a'),(2,'a')])\n",
    "#B.add_weighted_edges_from([(1,'a',3), (1,'b',10), (2,'b',1), (2,'c',1), (3,'c',30), (4,'a',4)])\n",
    "\n",
    "# Separate by group\n",
    "l, r = nx.bipartite.sets(B)\n",
    "pos = {}\n",
    "\n",
    "# Update position for node from each group\n",
    "pos.update((node, (1, index)) for index, node in enumerate(l))\n",
    "pos.update((node, (2, index)) for index, node in enumerate(r))\n",
    "\n",
    "nx.draw(B,with_labels = True, pos=pos)\n",
    "plt.show()"
   ]
  },
  {
   "cell_type": "code",
   "execution_count": null,
   "metadata": {},
   "outputs": [],
   "source": [
    "C = nx.Graph()\n",
    "C.add_nodes_from([1,2,3,4], bipartite=0) # Add the node attribute \"bipartite\"\n",
    "C.add_nodes_from(['a','b','c','k','d','e'], bipartite=1)\n",
    "C.add_edges_from([(3,'a'), (2,'b'), (4,'b'), (2,'c'), (3,'c'), (1,'a'),(2,'k'),(1,'d'),(2,'e')])\n",
    "#B.add_weighted_edges_from([(1,'a',3), (1,'b',10), (2,'b',1), (2,'c',1), (3,'c',30), (4,'a',4)])\n",
    "\n",
    "# Separate by group\n",
    "l, r = nx.bipartite.sets(C)\n",
    "pos = {}\n",
    "\n",
    "# Update position for node from each group\n",
    "pos.update((node, (1, index)) for index, node in enumerate(l))\n",
    "pos.update((node, (2, index)) for index, node in enumerate(r))\n",
    "\n",
    "nx.draw(C,with_labels = True, pos=pos)\n",
    "plt.show()"
   ]
  },
  {
   "cell_type": "code",
   "execution_count": null,
   "metadata": {},
   "outputs": [],
   "source": [
    "K1 = nx.bipartite.weighted_projected_graph(B, [1,2,3,4])\n",
    "K2 = nx.bipartite.weighted_projected_graph(B, [1,2,3,4])"
   ]
  },
  {
   "cell_type": "code",
   "execution_count": null,
   "metadata": {},
   "outputs": [],
   "source": [
    "list(K1.edges(data=True)),list(K2.edges(data=True))"
   ]
  },
  {
   "cell_type": "code",
   "execution_count": null,
   "metadata": {},
   "outputs": [],
   "source": [
    "list(combined_graphs_edges(K1,K2,1))"
   ]
  },
  {
   "cell_type": "code",
   "execution_count": null,
   "metadata": {},
   "outputs": [],
   "source": [
    "graph = nx.Graph()\n",
    "graph.add_edges_from(combined_graphs_edges(K1,K2,weight=0.5))\n",
    "labels = nx.get_edge_attributes(graph,'weight')\n",
    "print('weights',labels)\n",
    "nx.draw_networkx(graph,with_labels = True, pos=nx.spring_layout(graph),edge_color =[10,5.5,0.5,0.5],width =5)\n",
    "plt.show()"
   ]
  },
  {
   "cell_type": "code",
   "execution_count": null,
   "metadata": {},
   "outputs": [],
   "source": [
    "def combined_graphs_edges(G, H, weight = 1.0):\n",
    "    for u,v,hdata in H.edges(data=True):\n",
    "        # multply attributes of H by weight\n",
    "        attr = dict( (key, value*weight) for key,value in hdata.items())\n",
    "        # get data from G or use empty dict if no edge in G\n",
    "        gdata = G[u].get(v,{})\n",
    "        # add data from g\n",
    "        # sum shared items\n",
    "        shared = set(gdata) & set(hdata)\n",
    "        attr.update(dict((key, attr[key] * gdata[key]) for key in shared))\n",
    "        # non shared items\n",
    "        non_shared = set(gdata) - set(hdata)\n",
    "        attr.update(dict((key, gdata[key]) for key in non_shared))\n",
    "        yield u,v,attr\n",
    "    return"
   ]
  },
  {
   "cell_type": "code",
   "execution_count": null,
   "metadata": {},
   "outputs": [],
   "source": [
    "import matplotlib.pyplot as plt\n",
    "nx.draw(K,with_labels=True)\n",
    "#nx.draw(B,with_labels = True, pos=pos)\n",
    "plt.show()"
   ]
  },
  {
   "cell_type": "code",
   "execution_count": null,
   "metadata": {},
   "outputs": [],
   "source": [
    "K.nodes[1]"
   ]
  },
  {
   "cell_type": "code",
   "execution_count": null,
   "metadata": {},
   "outputs": [],
   "source": []
  }
 ],
 "metadata": {
  "kernelspec": {
   "display_name": "Python 3",
   "language": "python",
   "name": "python3"
  },
  "language_info": {
   "codemirror_mode": {
    "name": "ipython",
    "version": 3
   },
   "file_extension": ".py",
   "mimetype": "text/x-python",
   "name": "python",
   "nbconvert_exporter": "python",
   "pygments_lexer": "ipython3",
   "version": "3.7.3"
  }
 },
 "nbformat": 4,
 "nbformat_minor": 1
}

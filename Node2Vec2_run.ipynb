{
  "nbformat": 4,
  "nbformat_minor": 0,
  "metadata": {
    "colab": {
      "name": "Node2Vec2.ipynb",
      "version": "0.3.2",
      "provenance": []
    },
    "kernelspec": {
      "name": "python3",
      "display_name": "Python 3"
    },
    "accelerator": "GPU"
  },
  "cells": [
    {
      "cell_type": "code",
      "metadata": {
        "id": "NN8g2R644XoO",
        "colab_type": "code",
        "colab": {
          "base_uri": "https://localhost:8080/",
          "height": 122
        },
        "outputId": "22196205-4dda-48ea-e121-2973d66cfdf2"
      },
      "source": [
        "from google.colab import drive\n",
        "drive.mount('/content/drive')"
      ],
      "execution_count": 2,
      "outputs": [
        {
          "output_type": "stream",
          "text": [
            "Go to this URL in a browser: https://accounts.google.com/o/oauth2/auth?client_id=947318989803-6bn6qk8qdgf4n4g3pfee6491hc0brc4i.apps.googleusercontent.com&redirect_uri=urn%3Aietf%3Awg%3Aoauth%3A2.0%3Aoob&scope=email%20https%3A%2F%2Fwww.googleapis.com%2Fauth%2Fdocs.test%20https%3A%2F%2Fwww.googleapis.com%2Fauth%2Fdrive%20https%3A%2F%2Fwww.googleapis.com%2Fauth%2Fdrive.photos.readonly%20https%3A%2F%2Fwww.googleapis.com%2Fauth%2Fpeopleapi.readonly&response_type=code\n",
            "\n",
            "Enter your authorization code:\n",
            "··········\n",
            "Mounted at /content/drive\n"
          ],
          "name": "stdout"
        }
      ]
    },
    {
      "cell_type": "code",
      "metadata": {
        "id": "gumg0GNP4gNH",
        "colab_type": "code",
        "colab": {
          "base_uri": "https://localhost:8080/",
          "height": 34
        },
        "outputId": "7799c5d6-93a6-478b-8a59-c16bc0d35b13"
      },
      "source": [
        "pwd"
      ],
      "execution_count": 3,
      "outputs": [
        {
          "output_type": "execute_result",
          "data": {
            "text/plain": [
              "'/content'"
            ]
          },
          "metadata": {
            "tags": []
          },
          "execution_count": 3
        }
      ]
    },
    {
      "cell_type": "code",
      "metadata": {
        "id": "fk5objGu5EnA",
        "colab_type": "code",
        "colab": {
          "base_uri": "https://localhost:8080/",
          "height": 34
        },
        "outputId": "ab725a29-f959-4565-b756-44aa077ec3e3"
      },
      "source": [
        "%cd \"/content/drive/My Drive/ELO\""
      ],
      "execution_count": 4,
      "outputs": [
        {
          "output_type": "stream",
          "text": [
            "/content/drive/My Drive/ELO\n"
          ],
          "name": "stdout"
        }
      ]
    },
    {
      "cell_type": "code",
      "metadata": {
        "id": "3HyJkc1C41ke",
        "colab_type": "code",
        "colab": {}
      },
      "source": [
        "import networkx as nx\n",
        "from tqdm import tqdm\n",
        "import numpy as np"
      ],
      "execution_count": 0,
      "outputs": []
    },
    {
      "cell_type": "code",
      "metadata": {
        "id": "nBMMBmi947mv",
        "colab_type": "code",
        "colab": {}
      },
      "source": [
        "cid_mid=nx.read_gpickle('CID_MID_filtered.gpickle')"
      ],
      "execution_count": 0,
      "outputs": []
    },
    {
      "cell_type": "code",
      "metadata": {
        "id": "Gjgd8KyKPqyJ",
        "colab_type": "code",
        "colab": {
          "base_uri": "https://localhost:8080/",
          "height": 34
        },
        "outputId": "41a87503-8db5-4292-b01c-ca22b2f76ead"
      },
      "source": [
        "i=0\n",
        "for c in nx.connected_components(cid_mid):\n",
        "    i+=1\n",
        "    \n",
        "    \n",
        "    if i ==1:\n",
        "        a=cid_mid.subgraph(c)\n",
        "        #print(a.nodes)\n",
        "        break\n",
        "        #break\n",
        "nx.is_connected(a)"
      ],
      "execution_count": 7,
      "outputs": [
        {
          "output_type": "execute_result",
          "data": {
            "text/plain": [
              "True"
            ]
          },
          "metadata": {
            "tags": []
          },
          "execution_count": 7
        }
      ]
    },
    {
      "cell_type": "code",
      "metadata": {
        "id": "YurWVok7PtF2",
        "colab_type": "code",
        "colab": {
          "base_uri": "https://localhost:8080/",
          "height": 17034
        },
        "outputId": "65ce7fe1-1a3c-469a-a8ad-7bc12f0b52ee"
      },
      "source": [
        "len(list(a.nodes))\n",
        "list(a.nodes)"
      ],
      "execution_count": 8,
      "outputs": [
        {
          "output_type": "execute_result",
          "data": {
            "text/plain": [
              "['C_ID_00087f3079',\n",
              " 'M_ID_00a6ca8a8a',\n",
              " 'M_ID_070f18bfd0',\n",
              " 'M_ID_079ed19994',\n",
              " 'M_ID_081783973b',\n",
              " 'M_ID_11c1ad802f',\n",
              " 'M_ID_1714ecbfe6',\n",
              " 'M_ID_1b7ff41bbc',\n",
              " 'M_ID_1cbad31b9e',\n",
              " 'M_ID_215ea5e8e0',\n",
              " 'M_ID_21f9ffcf8c',\n",
              " 'M_ID_27c125af1e',\n",
              " 'M_ID_289df1c217',\n",
              " 'M_ID_30dcc361c7',\n",
              " 'M_ID_31396dd0c9',\n",
              " 'M_ID_32db696c82',\n",
              " 'M_ID_3555ce4cfc',\n",
              " 'M_ID_37980aa58a',\n",
              " 'M_ID_3ae75ae463',\n",
              " 'M_ID_4152d721f4',\n",
              " 'M_ID_42d8a8f82c',\n",
              " 'M_ID_54998a1d01',\n",
              " 'M_ID_54d3887e8a',\n",
              " 'M_ID_558a1a13f7',\n",
              " 'M_ID_653a726180',\n",
              " 'M_ID_6584470096',\n",
              " 'M_ID_6cc9d5d942',\n",
              " 'M_ID_6dd67a0701',\n",
              " 'M_ID_81d7114ee7',\n",
              " 'M_ID_87c3f9fccc',\n",
              " 'M_ID_8bd3b27458',\n",
              " 'M_ID_9139332ccc',\n",
              " 'M_ID_b077b14ecc',\n",
              " 'M_ID_b747b20eab',\n",
              " 'M_ID_b9e180e8a0',\n",
              " 'M_ID_baed7a3d28',\n",
              " 'M_ID_d81133262a',\n",
              " 'M_ID_fbcf5a4727',\n",
              " 'C_ID_001982552a',\n",
              " 'M_ID_00f86a4171',\n",
              " 'M_ID_0d0e81f4be',\n",
              " 'M_ID_1ac6bbc867',\n",
              " 'M_ID_1efda0c385',\n",
              " 'M_ID_288b665824',\n",
              " 'M_ID_2d44282d20',\n",
              " 'M_ID_2e09f5ffee',\n",
              " 'M_ID_35baecb1f2',\n",
              " 'M_ID_380fd2620d',\n",
              " 'M_ID_391f234b11',\n",
              " 'M_ID_3f644b8667',\n",
              " 'M_ID_4014bcd0a7',\n",
              " 'M_ID_411d9d8cc6',\n",
              " 'M_ID_462252c479',\n",
              " 'M_ID_49d4a8510e',\n",
              " 'M_ID_4a7db6007d',\n",
              " 'M_ID_50f575c681',\n",
              " 'M_ID_543c0aa2cd',\n",
              " 'M_ID_570a273316',\n",
              " 'M_ID_5b3a8c28d1',\n",
              " 'M_ID_639f6e47dd',\n",
              " 'M_ID_652e9f319c',\n",
              " 'M_ID_7397776f0a',\n",
              " 'M_ID_77197a9b5e',\n",
              " 'M_ID_7ebe20f8d3',\n",
              " 'M_ID_894047cfaf',\n",
              " 'M_ID_8e8029b535',\n",
              " 'M_ID_9f09013e74',\n",
              " 'M_ID_a9d91682ad',\n",
              " 'M_ID_a9e23ea6fb',\n",
              " 'M_ID_aedd089d1b',\n",
              " 'M_ID_b4d7ad0504',\n",
              " 'M_ID_b5d0162c23',\n",
              " 'M_ID_bd08f6e786',\n",
              " 'M_ID_bfd4adf7c7',\n",
              " 'M_ID_deb43ff012',\n",
              " 'M_ID_e03c4e824e',\n",
              " 'M_ID_ec24d672a3',\n",
              " 'M_ID_eeba6b925d',\n",
              " 'M_ID_f31ac3c7c1',\n",
              " 'M_ID_fc23f08cc2',\n",
              " 'C_ID_001d7f9262',\n",
              " 'M_ID_0cf1ec0406',\n",
              " 'M_ID_112e15a77b',\n",
              " 'M_ID_13da1d2806',\n",
              " 'M_ID_1f4773aa76',\n",
              " 'M_ID_399e80df2d',\n",
              " 'M_ID_786fb5fb88',\n",
              " 'M_ID_bb2b782985',\n",
              " 'M_ID_c03b62d83d',\n",
              " 'C_ID_0029d52418',\n",
              " 'M_ID_0e84b2e9d6',\n",
              " 'M_ID_1440c83173',\n",
              " 'M_ID_2637773dd2',\n",
              " 'M_ID_2a89f77b14',\n",
              " 'M_ID_3111c6df35',\n",
              " 'M_ID_3700a4ec5f',\n",
              " 'M_ID_497442dc4f',\n",
              " 'M_ID_72949e0f75',\n",
              " 'M_ID_820c7b73c8',\n",
              " 'M_ID_852fbc04db',\n",
              " 'M_ID_9054f69343',\n",
              " 'M_ID_a473d96131',\n",
              " 'M_ID_aba8bed1f2',\n",
              " 'M_ID_b77cb40122',\n",
              " 'M_ID_b9f9332438',\n",
              " 'M_ID_bc7d818511',\n",
              " 'M_ID_e5374dabc0',\n",
              " 'M_ID_ef87dd1879',\n",
              " 'M_ID_f86439cec0',\n",
              " 'M_ID_fc7d7969c3',\n",
              " 'M_ID_fd87796d9e',\n",
              " 'C_ID_00397e567f',\n",
              " 'M_ID_0783ed3341',\n",
              " 'M_ID_1006fa1468',\n",
              " 'M_ID_17ed3ddd2d',\n",
              " 'M_ID_1a25d3e01c',\n",
              " 'M_ID_2986973498',\n",
              " 'M_ID_349dc0edf2',\n",
              " 'M_ID_4d5f48b8f8',\n",
              " 'M_ID_54a517bfd3',\n",
              " 'M_ID_5558c55263',\n",
              " 'M_ID_5acc84335e',\n",
              " 'M_ID_689d22ac63',\n",
              " 'M_ID_695ee29415',\n",
              " 'M_ID_7db8d8ab70',\n",
              " 'M_ID_8a459c6827',\n",
              " 'M_ID_947d023dbc',\n",
              " 'M_ID_9c48568f02',\n",
              " 'M_ID_a7b1fe5e54',\n",
              " 'M_ID_aa95c0fffa',\n",
              " 'M_ID_ac1db31b2b',\n",
              " 'M_ID_ad65f122cd',\n",
              " 'M_ID_b4fc13de0a',\n",
              " 'M_ID_c57c0d04e8',\n",
              " 'M_ID_edfd9633a0',\n",
              " 'M_ID_f1bcfa2b30',\n",
              " 'M_ID_f98f7b8bde',\n",
              " 'C_ID_0046b2b355',\n",
              " 'M_ID_1f69db65df',\n",
              " 'M_ID_2d54e3fbf2',\n",
              " 'M_ID_2e270c8013',\n",
              " 'M_ID_42ded28817',\n",
              " 'M_ID_4674bea199',\n",
              " 'M_ID_6ed9518f3e',\n",
              " 'M_ID_7bc9de9f81',\n",
              " 'M_ID_aaf5f51ed2',\n",
              " 'M_ID_cc3a321ec5',\n",
              " 'M_ID_d680756165',\n",
              " 'M_ID_d8f501bec3',\n",
              " 'M_ID_de93031e86',\n",
              " 'M_ID_ff9502a1d6',\n",
              " 'C_ID_004885878b',\n",
              " 'M_ID_3a7e4deef6',\n",
              " 'M_ID_3ba873b8a0',\n",
              " 'M_ID_4335368686',\n",
              " 'M_ID_5bb58d9fae',\n",
              " 'M_ID_5c35953ad7',\n",
              " 'M_ID_633f602ca8',\n",
              " 'M_ID_7f1ad52238',\n",
              " 'M_ID_d8f6ca0600',\n",
              " 'C_ID_004afee4c8',\n",
              " 'M_ID_09d7a200d1',\n",
              " 'M_ID_1139d15b64',\n",
              " 'M_ID_12a45b5ef0',\n",
              " 'M_ID_3072cd425b',\n",
              " 'M_ID_309ad8356d',\n",
              " 'M_ID_32cb60c9d1',\n",
              " 'M_ID_548f18cdd2',\n",
              " 'M_ID_58a3f098d4',\n",
              " 'M_ID_5dfce09582',\n",
              " 'M_ID_6464db3b45',\n",
              " 'M_ID_9abeaf4559',\n",
              " 'M_ID_b2aca8b6fb',\n",
              " 'M_ID_c1021a1c15',\n",
              " 'M_ID_d39f1b9d55',\n",
              " 'M_ID_dbc292fa65',\n",
              " 'M_ID_f366cd5f5a',\n",
              " 'C_ID_0050fc55c0',\n",
              " 'M_ID_07c090f2d6',\n",
              " 'M_ID_24b34f600f',\n",
              " 'M_ID_68fe70db29',\n",
              " 'M_ID_6db31b215e',\n",
              " 'M_ID_8d6b52fcbe',\n",
              " 'M_ID_c4530d47b6',\n",
              " 'M_ID_cdd0bd1d25',\n",
              " 'M_ID_edd7550bd1',\n",
              " 'C_ID_005799985c',\n",
              " 'M_ID_9721fcae4b',\n",
              " 'M_ID_c1cbb13212',\n",
              " 'M_ID_c2a0b2516d',\n",
              " 'M_ID_cd2c0b07e9',\n",
              " 'C_ID_0057c2a0a7',\n",
              " 'M_ID_050970b4cf',\n",
              " 'M_ID_4edb8bbb12',\n",
              " 'M_ID_64d873caa3',\n",
              " 'M_ID_831484ad29',\n",
              " 'M_ID_88c1a5fce9',\n",
              " 'M_ID_9d1390d65a',\n",
              " 'M_ID_a08fe74b06',\n",
              " 'M_ID_a0ac7755fa',\n",
              " 'M_ID_d2b5d4418d',\n",
              " 'M_ID_ef15346d81',\n",
              " 'C_ID_0059dbb9f0',\n",
              " 'M_ID_092816024b',\n",
              " 'M_ID_11bbd5d7cd',\n",
              " 'M_ID_124bc5f024',\n",
              " 'M_ID_175cc95691',\n",
              " 'M_ID_1fb43df224',\n",
              " 'M_ID_2c4b8c61f6',\n",
              " 'M_ID_33baad020f',\n",
              " 'M_ID_34ac4db1d5',\n",
              " 'M_ID_3f68e813da',\n",
              " 'M_ID_400beacc30',\n",
              " 'M_ID_416db1dbff',\n",
              " 'M_ID_469bb722cb',\n",
              " 'M_ID_53a2ebf0dc',\n",
              " 'M_ID_54a27fb498',\n",
              " 'M_ID_5a20792550',\n",
              " 'M_ID_5fb709c95b',\n",
              " 'M_ID_61b1e6961f',\n",
              " 'M_ID_64abac9165',\n",
              " 'M_ID_671724848a',\n",
              " 'M_ID_6e032e9d35',\n",
              " 'M_ID_7c5e93af2f',\n",
              " 'M_ID_8837a8d7c9',\n",
              " 'M_ID_8932265d84',\n",
              " 'M_ID_89c2926ed7',\n",
              " 'M_ID_8e59a83c88',\n",
              " 'M_ID_964ac47b9a',\n",
              " 'M_ID_97f0959810',\n",
              " 'M_ID_98995b54fb',\n",
              " 'M_ID_98b342c0e3',\n",
              " 'M_ID_a497de8e6e',\n",
              " 'M_ID_ad49138777',\n",
              " 'M_ID_b2018bf0a6',\n",
              " 'M_ID_b5391bd47b',\n",
              " 'M_ID_b98db225f5',\n",
              " 'M_ID_c0365511a8',\n",
              " 'M_ID_c3376da89e',\n",
              " 'M_ID_c47a3e1743',\n",
              " 'M_ID_d29feb06d7',\n",
              " 'M_ID_d855771cd9',\n",
              " 'M_ID_d8e7bbdaa6',\n",
              " 'M_ID_d9cc97c90e',\n",
              " 'M_ID_dca6153686',\n",
              " 'M_ID_e0f4071a7f',\n",
              " 'M_ID_e422a9c841',\n",
              " 'M_ID_f734a6b02f',\n",
              " 'C_ID_005b219e05',\n",
              " 'M_ID_0095723b33',\n",
              " 'M_ID_01a31f2f27',\n",
              " 'M_ID_03179278a8',\n",
              " 'M_ID_04f9636a58',\n",
              " 'M_ID_050bd83c51',\n",
              " 'M_ID_057e2816c4',\n",
              " 'M_ID_0669e4a044',\n",
              " 'M_ID_06f4cc18b5',\n",
              " 'M_ID_07a72099bd',\n",
              " 'M_ID_0ae4a2ce3a',\n",
              " 'M_ID_0be818ba01',\n",
              " 'M_ID_0f8512d517',\n",
              " 'M_ID_0ff8f1a2c0',\n",
              " 'M_ID_14578fca9f',\n",
              " 'M_ID_23bb5e700d',\n",
              " 'M_ID_2417424547',\n",
              " 'M_ID_24e7284909',\n",
              " 'M_ID_2670bb6054',\n",
              " 'M_ID_28195b4a7c',\n",
              " 'M_ID_2a8be16f23',\n",
              " 'M_ID_2c47725e75',\n",
              " 'M_ID_2c8c6a7baa',\n",
              " 'M_ID_2caac72d8e',\n",
              " 'M_ID_2fe7289ca0',\n",
              " 'M_ID_3205692135',\n",
              " 'M_ID_38094e96e6',\n",
              " 'M_ID_43b5833f35',\n",
              " 'M_ID_45ff02ca9c',\n",
              " 'M_ID_48edf43947',\n",
              " 'M_ID_4af51045a6',\n",
              " 'M_ID_4c6588e156',\n",
              " 'M_ID_4d5d7ec90f',\n",
              " 'M_ID_5045bf8792',\n",
              " 'M_ID_5079e41deb',\n",
              " 'M_ID_5215558f76',\n",
              " 'M_ID_53606340f1',\n",
              " 'M_ID_560e26b3b4',\n",
              " 'M_ID_5623373a66',\n",
              " 'M_ID_58f7c18482',\n",
              " 'M_ID_591f9ec01c',\n",
              " 'M_ID_5a7e8bbbb5',\n",
              " 'M_ID_5b073e9b04',\n",
              " 'M_ID_5d09f5de09',\n",
              " 'M_ID_5ea3ce89f6',\n",
              " 'M_ID_5f27e90af1',\n",
              " 'M_ID_632ab0b95a',\n",
              " 'M_ID_65f800cd41',\n",
              " 'M_ID_66088ea892',\n",
              " 'M_ID_667cd88e7d',\n",
              " 'M_ID_6b99a236b3',\n",
              " 'M_ID_6c6c7e4e78',\n",
              " 'M_ID_6ea7b2aef5',\n",
              " 'M_ID_6edbfd0a0c',\n",
              " 'M_ID_6fe84cf06f',\n",
              " 'M_ID_7371a32e5b',\n",
              " 'M_ID_77909b099a',\n",
              " 'M_ID_7ad4ab1914',\n",
              " 'M_ID_7e96e27129',\n",
              " 'M_ID_843ffda68e',\n",
              " 'M_ID_84c2b5cfb3',\n",
              " 'M_ID_880f48e812',\n",
              " 'M_ID_882280c34d',\n",
              " 'M_ID_89c3dddb9f',\n",
              " 'M_ID_8b3699e868',\n",
              " 'M_ID_8c6b897b35',\n",
              " 'M_ID_8de5e51c66',\n",
              " 'M_ID_8ed658b907',\n",
              " 'M_ID_910ca5e695',\n",
              " 'M_ID_92df7fc51e',\n",
              " 'M_ID_93147f2a37',\n",
              " 'M_ID_96033b37f4',\n",
              " 'M_ID_965312ff4b',\n",
              " 'M_ID_98f3d06d87',\n",
              " 'M_ID_9b71189ff8',\n",
              " 'M_ID_9d9c24f6ed',\n",
              " 'M_ID_9e7d2134e5',\n",
              " 'M_ID_9f0ca864d7',\n",
              " 'M_ID_a291750050',\n",
              " 'M_ID_a5fb36707c',\n",
              " 'M_ID_a79583e15c',\n",
              " 'M_ID_a930d30625',\n",
              " 'M_ID_ac88ff2c29',\n",
              " 'M_ID_b14125dc2e',\n",
              " 'M_ID_b1e49eb78b',\n",
              " 'M_ID_b3632e12f1',\n",
              " 'M_ID_b63509cd5a',\n",
              " 'M_ID_b67e766951',\n",
              " 'M_ID_b723862e04',\n",
              " 'M_ID_b847bd8cb1',\n",
              " 'M_ID_b95e6efda2',\n",
              " 'M_ID_b9c71e7c0a',\n",
              " 'M_ID_baa9d24073',\n",
              " 'M_ID_bab122d956',\n",
              " 'M_ID_bbc39aa846',\n",
              " 'M_ID_bcb657ee23',\n",
              " 'M_ID_c24f5ab0d2',\n",
              " 'M_ID_c93a09e5ca',\n",
              " 'M_ID_ceeaf83fa5',\n",
              " 'M_ID_d69059e2c7',\n",
              " 'M_ID_d82bac7556',\n",
              " 'M_ID_da55cc472d',\n",
              " 'M_ID_da5d165a3e',\n",
              " 'M_ID_db76f7d37f',\n",
              " 'M_ID_e0c9571008',\n",
              " 'M_ID_e15b4cdb03',\n",
              " 'M_ID_e341e79c84',\n",
              " 'M_ID_e4dbe753ff',\n",
              " 'M_ID_e56fd56b9c',\n",
              " 'M_ID_e5f664084d',\n",
              " 'M_ID_ea09490e58',\n",
              " 'M_ID_eadc562200',\n",
              " 'M_ID_ec6f6636a2',\n",
              " 'M_ID_ee3fdde66f',\n",
              " 'M_ID_efadd09234',\n",
              " 'M_ID_f0c7c5dd97',\n",
              " 'M_ID_fb837db46b',\n",
              " 'M_ID_fc627fb01e',\n",
              " 'C_ID_006b12ffc8',\n",
              " 'M_ID_055af1e313',\n",
              " 'M_ID_4e461f7e14',\n",
              " 'M_ID_9111247724',\n",
              " 'M_ID_9d9a900e64',\n",
              " 'M_ID_aaf7afc7d9',\n",
              " 'M_ID_bd58b5a07e',\n",
              " 'M_ID_c0a94c9234',\n",
              " 'M_ID_c34bc6a7b7',\n",
              " 'C_ID_006b9a7fed',\n",
              " 'M_ID_1b745e5a12',\n",
              " 'M_ID_21d4565857',\n",
              " 'M_ID_2c049b075c',\n",
              " 'M_ID_2cb2c69c11',\n",
              " 'M_ID_3fbb7a7fc8',\n",
              " 'M_ID_47ead83b0c',\n",
              " 'M_ID_4b30c89c1b',\n",
              " 'M_ID_5111e3c83c',\n",
              " 'M_ID_55cd15dea6',\n",
              " 'M_ID_5ba019a379',\n",
              " 'M_ID_5e79c5152d',\n",
              " 'M_ID_6b223717dd',\n",
              " 'M_ID_6e841cd219',\n",
              " 'M_ID_71a5e47722',\n",
              " 'M_ID_7f4a99ddd9',\n",
              " 'M_ID_82a30d9203',\n",
              " 'M_ID_8c368e024c',\n",
              " 'M_ID_90406ffd35',\n",
              " 'M_ID_92779bcc6b',\n",
              " 'M_ID_940fb4498f',\n",
              " 'M_ID_9769e2aa19',\n",
              " 'M_ID_9800bc2e9a',\n",
              " 'M_ID_9994253491',\n",
              " 'M_ID_9baf6a1fe8',\n",
              " 'M_ID_9e804ecbcb',\n",
              " 'M_ID_a94b531271',\n",
              " 'M_ID_aaaac9a625',\n",
              " 'M_ID_ab763d7307',\n",
              " 'M_ID_b01a20556d',\n",
              " 'M_ID_b273a46ab2',\n",
              " 'M_ID_b794b9d9e8',\n",
              " 'M_ID_bfb7e122a0',\n",
              " 'M_ID_c2c18c888f',\n",
              " 'M_ID_c355870ab2',\n",
              " 'M_ID_cc72dac895',\n",
              " 'M_ID_d13262f4b0',\n",
              " 'M_ID_f4cda870d6',\n",
              " 'M_ID_f61ea89ea1',\n",
              " 'C_ID_0071913ad1',\n",
              " 'M_ID_087af49282',\n",
              " 'M_ID_12a5a721f9',\n",
              " 'M_ID_283a2674fd',\n",
              " 'M_ID_40c5ad38dc',\n",
              " 'M_ID_41f61fabca',\n",
              " 'M_ID_469dbe6e55',\n",
              " 'M_ID_47d5692df7',\n",
              " 'M_ID_4ee74ec12d',\n",
              " 'M_ID_56c3075ce2',\n",
              " 'M_ID_5b9a107e97',\n",
              " 'M_ID_5c3e707470',\n",
              " 'M_ID_6623458c63',\n",
              " 'M_ID_66ee73c0c2',\n",
              " 'M_ID_6e9aba3761',\n",
              " 'M_ID_7640829176',\n",
              " 'M_ID_7da5b147af',\n",
              " 'M_ID_7f9f2e39ec',\n",
              " 'M_ID_944415e7f2',\n",
              " 'M_ID_a4f8562e86',\n",
              " 'M_ID_ac11bfb453',\n",
              " 'M_ID_b8870b1716',\n",
              " 'M_ID_bb122f146f',\n",
              " 'M_ID_c4b3f712cf',\n",
              " 'M_ID_ccd0d5871d',\n",
              " 'M_ID_d2897279e5',\n",
              " 'M_ID_d648cb7dc1',\n",
              " 'M_ID_d65efa9c4c',\n",
              " 'M_ID_d952b4d3ce',\n",
              " 'M_ID_dedddaf6f2',\n",
              " 'M_ID_df403bf258',\n",
              " 'M_ID_e3c09723fc',\n",
              " 'M_ID_e5d2475b2a',\n",
              " 'M_ID_f33c79e4d7',\n",
              " 'C_ID_0089a52031',\n",
              " 'M_ID_13334d10c2',\n",
              " 'M_ID_1409575c62',\n",
              " 'M_ID_20b6760de6',\n",
              " 'M_ID_26cf12481a',\n",
              " 'M_ID_2b09271a92',\n",
              " 'M_ID_2b121e8930',\n",
              " 'M_ID_30c57fb610',\n",
              " 'M_ID_416d456adb',\n",
              " 'M_ID_42195145ba',\n",
              " 'M_ID_44371f561f',\n",
              " 'M_ID_4872d8fafd',\n",
              " 'M_ID_4baa51af9d',\n",
              " 'M_ID_5230bd8943',\n",
              " 'M_ID_69f3542182',\n",
              " 'M_ID_6b5120c979',\n",
              " 'M_ID_6e0ae31662',\n",
              " 'M_ID_72f4891736',\n",
              " 'M_ID_738a68c502',\n",
              " 'M_ID_887b40f733',\n",
              " 'M_ID_8e6284dbff',\n",
              " 'M_ID_94b40ac762',\n",
              " 'M_ID_954c5840b5',\n",
              " 'M_ID_96ba3c7b60',\n",
              " 'M_ID_98c1cc2374',\n",
              " 'M_ID_9d7e4d4f9e',\n",
              " 'M_ID_9d83c5566d',\n",
              " 'M_ID_a9430074ad',\n",
              " 'M_ID_aa54be4304',\n",
              " 'M_ID_b0bbffc5ba',\n",
              " 'M_ID_b4619ccf4b',\n",
              " 'M_ID_bdafc3497d',\n",
              " 'M_ID_c1a7024db1',\n",
              " 'M_ID_c2b9ac2ea4',\n",
              " 'M_ID_d2fed1cb9c',\n",
              " 'M_ID_df93c1f0c0',\n",
              " 'M_ID_e68fb6acf1',\n",
              " 'M_ID_e844ab50e8',\n",
              " 'M_ID_ea3e266c07',\n",
              " 'C_ID_009025557d',\n",
              " 'M_ID_5bb0b9cd07',\n",
              " 'M_ID_61f1337e5d',\n",
              " 'M_ID_65fea81c67',\n",
              " 'M_ID_99e684a233',\n",
              " 'M_ID_a9872c8fea',\n",
              " 'M_ID_d0ecb1fab1',\n",
              " 'C_ID_0096393955',\n",
              " 'M_ID_019e704ee3',\n",
              " 'M_ID_05b88aa34b',\n",
              " 'M_ID_123fd99157',\n",
              " 'M_ID_13db7b013d',\n",
              " 'M_ID_142ab0e97a',\n",
              " 'M_ID_1b507cb20f',\n",
              " 'M_ID_1df4c6f47a',\n",
              " 'M_ID_1e1f6cc067',\n",
              " 'M_ID_22a1f5f815',\n",
              " 'M_ID_2878a7d078',\n",
              " 'M_ID_2a58616f9e',\n",
              " 'M_ID_2b1239d1e9',\n",
              " 'M_ID_2b4c994ba2',\n",
              " 'M_ID_32f437c2ad',\n",
              " 'M_ID_3935f30a94',\n",
              " 'M_ID_39d40ecabe',\n",
              " 'M_ID_3b3dad217c',\n",
              " 'M_ID_3f3084da59',\n",
              " 'M_ID_44d3622f27',\n",
              " 'M_ID_486cbd6382',\n",
              " 'M_ID_50cb7a4204',\n",
              " 'M_ID_5252df9505',\n",
              " 'M_ID_57eb30da39',\n",
              " 'M_ID_59092bd70b',\n",
              " 'M_ID_5cea7e02a8',\n",
              " 'M_ID_5cef7348b4',\n",
              " 'M_ID_5f191a5d98',\n",
              " 'M_ID_67b6f3c471',\n",
              " 'M_ID_67cff96d24',\n",
              " 'M_ID_705f7f25bf',\n",
              " 'M_ID_7167fb01bc',\n",
              " 'M_ID_8640649160',\n",
              " 'M_ID_879f625c89',\n",
              " 'M_ID_8b4d927895',\n",
              " 'M_ID_8f55b20d63',\n",
              " 'M_ID_8fcb16a959',\n",
              " 'M_ID_9028d1fe44',\n",
              " 'M_ID_9f5617a1f2',\n",
              " 'M_ID_a0c228f362',\n",
              " 'M_ID_a46096b4b5',\n",
              " 'M_ID_a5ef37a290',\n",
              " 'M_ID_b20045c148',\n",
              " 'M_ID_b4b78b5086',\n",
              " 'M_ID_b5b80addf5',\n",
              " 'M_ID_b62295d1c0',\n",
              " 'M_ID_bdaeee4a0e',\n",
              " 'M_ID_bec6edd8a8',\n",
              " 'M_ID_c58fa7072a',\n",
              " 'M_ID_ca4d18b336',\n",
              " 'M_ID_cf837d6029',\n",
              " 'M_ID_d40fc89fc1',\n",
              " 'M_ID_df1e0fc4b7',\n",
              " 'M_ID_dfde415157',\n",
              " 'M_ID_eb96381bc4',\n",
              " 'M_ID_eef8550010',\n",
              " 'M_ID_f40ccc1312',\n",
              " 'M_ID_f423243678',\n",
              " 'M_ID_f6e34b2c42',\n",
              " 'M_ID_f86c114555',\n",
              " 'M_ID_fd3eb7c184',\n",
              " 'M_ID_fda8aaa891',\n",
              " 'C_ID_00973d860b',\n",
              " 'M_ID_21aedaf5b3',\n",
              " 'M_ID_2946ca522d',\n",
              " 'M_ID_2bc44fb971',\n",
              " 'M_ID_7115014b4e',\n",
              " 'M_ID_8c1af5fa99',\n",
              " 'M_ID_da35a6d13e',\n",
              " 'M_ID_f296e68c27',\n",
              " 'C_ID_00a5cb7431',\n",
              " 'M_ID_11aaf467aa',\n",
              " 'M_ID_8b5d6e23ea',\n",
              " 'M_ID_bc6fe9bb02',\n",
              " 'M_ID_c2a6e87c68',\n",
              " 'M_ID_c97dbc82ae',\n",
              " 'C_ID_00aeed1747',\n",
              " 'M_ID_00649511bc',\n",
              " 'M_ID_03626bb197',\n",
              " 'M_ID_1343c063a4',\n",
              " 'M_ID_1cd049c4c3',\n",
              " 'M_ID_2a06181e98',\n",
              " 'M_ID_2f849cf3e7',\n",
              " 'M_ID_37de597261',\n",
              " 'M_ID_48767cb4ef',\n",
              " 'M_ID_56f54edcb8',\n",
              " 'M_ID_607e8fb1cd',\n",
              " 'M_ID_67ead1197d',\n",
              " 'M_ID_6fc70fb7cf',\n",
              " 'M_ID_8c1c396fe6',\n",
              " 'M_ID_90a77b8530',\n",
              " 'M_ID_98cf0965bb',\n",
              " 'M_ID_a243d4f842',\n",
              " 'M_ID_a831b0cc7e',\n",
              " 'M_ID_b551b86021',\n",
              " 'M_ID_b7ba62b94a',\n",
              " 'M_ID_b91959ab09',\n",
              " 'M_ID_c278a9c639',\n",
              " 'M_ID_c9438f2ccd',\n",
              " 'M_ID_c9c875bb3a',\n",
              " 'M_ID_d0388c3aa1',\n",
              " 'M_ID_d3174523b4',\n",
              " 'M_ID_deaa3c4025',\n",
              " 'M_ID_ec1872233d',\n",
              " 'C_ID_00b754135e',\n",
              " 'M_ID_08b7a2754c',\n",
              " 'M_ID_12e519094c',\n",
              " 'M_ID_147a44d53c',\n",
              " 'M_ID_1a0861fb53',\n",
              " 'M_ID_1e13956e1c',\n",
              " 'M_ID_39c7a02b7b',\n",
              " 'M_ID_3a27f9e9d1',\n",
              " 'M_ID_3a3398eb04',\n",
              " 'M_ID_43f8fcbc6e',\n",
              " 'M_ID_541690071c',\n",
              " 'M_ID_58e5ee47f8',\n",
              " 'M_ID_62b10e2b59',\n",
              " 'M_ID_717c1d6ea2',\n",
              " 'M_ID_75fff00922',\n",
              " 'M_ID_801e53f859',\n",
              " 'M_ID_81c6cdfa38',\n",
              " 'M_ID_83341581ca',\n",
              " 'M_ID_85d3e2e968',\n",
              " 'M_ID_98a37e93f8',\n",
              " 'M_ID_9a8b970fac',\n",
              " 'M_ID_af76631608',\n",
              " 'M_ID_b4c268cc5e',\n",
              " 'M_ID_b7c2ba18f6',\n",
              " 'M_ID_c13526886d',\n",
              " 'M_ID_c16910813a',\n",
              " 'M_ID_c2845f6065',\n",
              " 'M_ID_c4b8370ce3',\n",
              " 'M_ID_c725cf35d9',\n",
              " 'M_ID_cdbc127bc7',\n",
              " 'M_ID_ce24911df6',\n",
              " 'M_ID_d75ff84c79',\n",
              " 'M_ID_db143d44ba',\n",
              " 'M_ID_efac462628',\n",
              " 'M_ID_f2045dd267',\n",
              " 'M_ID_fa074c86fb',\n",
              " 'M_ID_ff41dc3e35',\n",
              " 'C_ID_00b966c727',\n",
              " 'M_ID_06592a97ea',\n",
              " 'M_ID_0a11b43f2c',\n",
              " 'M_ID_0a4bc69866',\n",
              " 'M_ID_195ac4e316',\n",
              " 'M_ID_224b9c50b8',\n",
              " 'M_ID_26197de29e',\n",
              " 'M_ID_2f9f45789a',\n",
              " 'M_ID_31eff726f4',\n",
              " 'M_ID_3887fa8e1a',\n",
              " 'M_ID_3b78b11005',\n",
              " 'M_ID_3bf4764334',\n",
              " 'M_ID_3dfd6d6de7',\n",
              " 'M_ID_463078dd8a',\n",
              " 'M_ID_4c5756bc43',\n",
              " 'M_ID_567ca2364d',\n",
              " 'M_ID_5fa90058e0',\n",
              " 'M_ID_6700a33a8d',\n",
              " 'M_ID_7495c0c2d8',\n",
              " 'M_ID_8347867a8d',\n",
              " 'M_ID_8379ec9b92',\n",
              " 'M_ID_86b444b6ff',\n",
              " 'M_ID_89e9e5c469',\n",
              " 'M_ID_96b2834120',\n",
              " 'M_ID_96c5e6b8f6',\n",
              " 'M_ID_a019e58dae',\n",
              " 'M_ID_a173902dc5',\n",
              " 'M_ID_a4329fa45d',\n",
              " 'M_ID_af9c45327e',\n",
              " 'M_ID_b1970cb499',\n",
              " 'M_ID_b6a2fa366a',\n",
              " 'M_ID_b7459adc65',\n",
              " 'M_ID_b7777dd235',\n",
              " 'M_ID_c578741b02',\n",
              " 'M_ID_c9855bf3e3',\n",
              " 'M_ID_d1359a5fb5',\n",
              " 'M_ID_d3175ceeb9',\n",
              " 'M_ID_d8e0d42e4b',\n",
              " 'M_ID_da0de48b77',\n",
              " 'M_ID_dd7028b1f5',\n",
              " 'M_ID_eab413e0c8',\n",
              " 'M_ID_f0400371aa',\n",
              " 'M_ID_f302f1cbb7',\n",
              " 'M_ID_fda5f8a921',\n",
              " 'C_ID_00bd0b2091',\n",
              " 'M_ID_0b42407c64',\n",
              " 'M_ID_170c7d62bd',\n",
              " 'M_ID_4e3281959f',\n",
              " 'M_ID_98b4e6cd80',\n",
              " 'M_ID_a9ade73d9a',\n",
              " 'M_ID_bed1528820',\n",
              " 'M_ID_cc2c3071c9',\n",
              " 'M_ID_d5d72b3710',\n",
              " 'M_ID_eb47dce777',\n",
              " 'C_ID_00c3ea8cee',\n",
              " 'M_ID_0a0d02d32e',\n",
              " 'M_ID_108ff706bb',\n",
              " 'M_ID_32dcb07ced',\n",
              " 'M_ID_40ed26ddf4',\n",
              " 'M_ID_463512511e',\n",
              " 'M_ID_6d0b766d93',\n",
              " 'M_ID_6f66e9447a',\n",
              " 'M_ID_759d48b839',\n",
              " 'M_ID_8bad92205c',\n",
              " 'M_ID_93205bfde9',\n",
              " 'M_ID_9585c8eb03',\n",
              " 'M_ID_b299b79704',\n",
              " 'M_ID_b5783763be',\n",
              " 'M_ID_b98b4f4f5c',\n",
              " 'M_ID_c77e7dfd71',\n",
              " 'M_ID_c8ccbd8375',\n",
              " 'M_ID_d224a9d7d4',\n",
              " 'M_ID_dcf00eb757',\n",
              " 'M_ID_df1d3f094b',\n",
              " 'M_ID_e528972d3b',\n",
              " 'M_ID_e7878cb31b',\n",
              " 'M_ID_f6d8b331cb',\n",
              " 'C_ID_00c41e4187',\n",
              " 'M_ID_0d8c68b7ea',\n",
              " 'M_ID_0e88925e38',\n",
              " 'M_ID_1516e4c882',\n",
              " 'M_ID_174e1dbf8c',\n",
              " 'M_ID_21c718ecdd',\n",
              " 'M_ID_28499d0711',\n",
              " 'M_ID_34eb222ad2',\n",
              " 'M_ID_384ffe1bef',\n",
              " 'M_ID_412f6e649c',\n",
              " 'M_ID_45cf032da6',\n",
              " 'M_ID_48257bb851',\n",
              " 'M_ID_48fb5afc45',\n",
              " 'M_ID_5b88bbf8a2',\n",
              " 'M_ID_5e2fec4e2f',\n",
              " 'M_ID_61754e8b20',\n",
              " 'M_ID_650c1a991b',\n",
              " 'M_ID_66070246fd',\n",
              " 'M_ID_6e774f8cb4',\n",
              " 'M_ID_7be6e8777f',\n",
              " 'M_ID_893926b7ba',\n",
              " 'M_ID_8fa2a1e5ba',\n",
              " 'M_ID_a30d553adf',\n",
              " 'M_ID_a414fa29e7',\n",
              " 'M_ID_b4e87c42d3',\n",
              " 'M_ID_b54d454927',\n",
              " 'M_ID_c119db2524',\n",
              " 'M_ID_c35c5eb10d',\n",
              " 'M_ID_db0ab6210f',\n",
              " 'M_ID_e87c752c34',\n",
              " 'M_ID_f416f2710c',\n",
              " 'C_ID_00c983617e',\n",
              " 'M_ID_02c1bcdbd7',\n",
              " 'M_ID_0331338f38',\n",
              " 'M_ID_05aed46a93',\n",
              " 'M_ID_072a484bbb',\n",
              " 'M_ID_073bb419e9',\n",
              " 'M_ID_0c65c3f04c',\n",
              " 'M_ID_0e48e2bcc4',\n",
              " 'M_ID_1435ba0058',\n",
              " 'M_ID_18edc98a46',\n",
              " 'M_ID_1f55b4d6fd',\n",
              " 'M_ID_21ecff4970',\n",
              " 'M_ID_2dce7bb7b4',\n",
              " 'M_ID_375271149d',\n",
              " 'M_ID_37d17af8b4',\n",
              " 'M_ID_3c75ea64c5',\n",
              " 'M_ID_4043899d94',\n",
              " 'M_ID_406a1430ab',\n",
              " 'M_ID_40be28cb08',\n",
              " 'M_ID_4383791245',\n",
              " 'M_ID_453b053f58',\n",
              " 'M_ID_47daacf3e8',\n",
              " 'M_ID_522bd82b6f',\n",
              " 'M_ID_58165f0577',\n",
              " 'M_ID_592283ed00',\n",
              " 'M_ID_5a097b603b',\n",
              " 'M_ID_5a4c069a80',\n",
              " 'M_ID_5f34cc6504',\n",
              " 'M_ID_5ff619483a',\n",
              " 'M_ID_695e4f8e80',\n",
              " 'M_ID_6a223f3d32',\n",
              " 'M_ID_6fcd0bbd9d',\n",
              " 'M_ID_7241da7136',\n",
              " 'M_ID_75646057c8',\n",
              " 'M_ID_79692349d6',\n",
              " 'M_ID_7a48aa8dd5',\n",
              " 'M_ID_7b71d95865',\n",
              " 'M_ID_806656dfc9',\n",
              " 'M_ID_848898beea',\n",
              " 'M_ID_871856d6ad',\n",
              " 'M_ID_95d91fcffb',\n",
              " 'M_ID_97fc68d242',\n",
              " 'M_ID_9d78422215',\n",
              " 'M_ID_a10b1a4949',\n",
              " 'M_ID_a40eed1f11',\n",
              " 'M_ID_aa05522595',\n",
              " 'M_ID_b63842cd51',\n",
              " 'M_ID_b8e4aeff5c',\n",
              " 'M_ID_ba4e0fbbd9',\n",
              " 'M_ID_bcf3563ad3',\n",
              " 'M_ID_c30b0ccb69',\n",
              " 'M_ID_c5ff60ff39',\n",
              " 'M_ID_cbf911cbb0',\n",
              " 'M_ID_d3abe9e075',\n",
              " 'M_ID_d5af1111a3',\n",
              " 'M_ID_d5dc8ac277',\n",
              " 'M_ID_d5e7056d78',\n",
              " 'M_ID_e2702d5f1d',\n",
              " 'M_ID_ec4cbb4b5d',\n",
              " 'M_ID_f25e782698',\n",
              " 'M_ID_f2ede94267',\n",
              " 'M_ID_f4db5b8d54',\n",
              " 'M_ID_f5c8372188',\n",
              " 'M_ID_f6ebe070ba',\n",
              " 'M_ID_f819a1f3f3',\n",
              " 'M_ID_f983d52227',\n",
              " 'M_ID_fef0e2424e',\n",
              " 'C_ID_00e38f4420',\n",
              " 'M_ID_06efe4c02f',\n",
              " 'M_ID_093df2fb2a',\n",
              " 'M_ID_0e677d3cea',\n",
              " 'M_ID_0f33ca446b',\n",
              " 'M_ID_21addecc80',\n",
              " 'M_ID_242f8a9132',\n",
              " 'M_ID_2711dfd360',\n",
              " 'M_ID_38d55acbe9',\n",
              " 'M_ID_46ee9b6528',\n",
              " 'M_ID_473152ecbc',\n",
              " 'M_ID_4d506b9b62',\n",
              " 'M_ID_6f04720eb7',\n",
              " 'M_ID_7c806c3f92',\n",
              " 'M_ID_80459cde5f',\n",
              " 'M_ID_8aac24aa3b',\n",
              " 'M_ID_8fadd601d2',\n",
              " 'M_ID_8fe169ca6d',\n",
              " 'M_ID_9094f10d9b',\n",
              " 'M_ID_97bff99f3d',\n",
              " 'M_ID_98fcaae8bf',\n",
              " 'M_ID_99ea38c6ef',\n",
              " 'M_ID_a316de610a',\n",
              " 'M_ID_a4e8ad9e34',\n",
              " 'M_ID_a520195c89',\n",
              " 'M_ID_a8aa666e35',\n",
              " 'M_ID_aab40fd571',\n",
              " 'M_ID_ac403d504e',\n",
              " 'M_ID_aed6aa1ccd',\n",
              " 'M_ID_bb5c261914',\n",
              " 'M_ID_c588af9cf8',\n",
              " 'M_ID_d05753dd67',\n",
              " 'M_ID_d3af75fd17',\n",
              " 'M_ID_def56d2ec4',\n",
              " 'M_ID_e19f8affd0',\n",
              " 'M_ID_e95d308833',\n",
              " 'M_ID_ebda5c7cf4',\n",
              " 'M_ID_fd998c835b',\n",
              " 'M_ID_ffca4ea8c9',\n",
              " 'C_ID_00e66e8ace',\n",
              " 'M_ID_12c82a8572',\n",
              " 'M_ID_27ddaec3c7',\n",
              " 'M_ID_519b6f8fa7',\n",
              " 'M_ID_535ecda17d',\n",
              " 'M_ID_6a68f2c54b',\n",
              " 'M_ID_7130b6a4c6',\n",
              " 'M_ID_a9016a9470',\n",
              " 'M_ID_ac78c7d82a',\n",
              " 'M_ID_addf38963f',\n",
              " 'M_ID_bdc877efb0',\n",
              " 'M_ID_db35e987a9',\n",
              " 'M_ID_dc9b0a6729',\n",
              " 'M_ID_f4fbdc6add',\n",
              " 'C_ID_00ec87b7ee',\n",
              " 'M_ID_01f60bfba9',\n",
              " 'M_ID_06e3cd29bd',\n",
              " 'M_ID_11e7060aa7',\n",
              " 'M_ID_1f5f6fb5a2',\n",
              " 'M_ID_27b80a9c52',\n",
              " 'M_ID_4c57be922b',\n",
              " 'M_ID_58cf8594d0',\n",
              " 'M_ID_6dc1af52d6',\n",
              " 'M_ID_746913b28e',\n",
              " 'M_ID_8b256317a3',\n",
              " 'M_ID_8c960a3035',\n",
              " 'M_ID_971808f199',\n",
              " 'M_ID_a688b559b7',\n",
              " 'M_ID_b1817ccbd5',\n",
              " 'M_ID_b9adcc9426',\n",
              " 'M_ID_b9dcf28cb9',\n",
              " 'M_ID_ba0342fe81',\n",
              " 'M_ID_be415b9ead',\n",
              " 'M_ID_dab7d0f648',\n",
              " 'M_ID_e7c60e58e6',\n",
              " 'M_ID_ee1c956e08',\n",
              " 'M_ID_f8da215d8f',\n",
              " 'C_ID_00edc3973c',\n",
              " 'M_ID_076cd8a829',\n",
              " 'M_ID_0909e4f0c2',\n",
              " 'M_ID_2e458f38b5',\n",
              " 'M_ID_4f0bd67814',\n",
              " 'M_ID_70fc143c30',\n",
              " 'M_ID_7272fbd218',\n",
              " 'M_ID_791001c2ef',\n",
              " 'M_ID_885a76687b',\n",
              " 'M_ID_9e84cda3b1',\n",
              " 'M_ID_b6f3561665',\n",
              " 'C_ID_00f4bb8f88',\n",
              " 'M_ID_00c2bb28ca',\n",
              " 'M_ID_0404a6a5c0',\n",
              " 'M_ID_0b20c58273',\n",
              " 'M_ID_0f07fabb54',\n",
              " 'M_ID_144e031256',\n",
              " 'M_ID_190f7cbde2',\n",
              " 'M_ID_1e28675aa8',\n",
              " 'M_ID_21bb95ebbe',\n",
              " 'M_ID_21bdbaaba5',\n",
              " 'M_ID_2741224f2f',\n",
              " 'M_ID_2ba584a184',\n",
              " 'M_ID_2dea0f1d38',\n",
              " 'M_ID_37bb674e2c',\n",
              " 'M_ID_3926a1c38e',\n",
              " 'M_ID_46f787231b',\n",
              " 'M_ID_4e1fd68212',\n",
              " 'M_ID_4eb9b15b99',\n",
              " 'M_ID_4fdaf7e7ac',\n",
              " 'M_ID_51757498fd',\n",
              " 'M_ID_544e57345e',\n",
              " 'M_ID_5518af06f8',\n",
              " 'M_ID_56086ccdb1',\n",
              " 'M_ID_5f418d7dcb',\n",
              " 'M_ID_70332cf74c',\n",
              " 'M_ID_7a1230a9c7',\n",
              " 'M_ID_8457ddc5e1',\n",
              " 'M_ID_877314f3d5',\n",
              " 'M_ID_883c24d43a',\n",
              " 'M_ID_886b6f3d85',\n",
              " 'M_ID_92fbc3bd10',\n",
              " 'M_ID_982a45b5a6',\n",
              " 'M_ID_9ad5364c30',\n",
              " 'M_ID_9e548e3853',\n",
              " 'M_ID_9ed2f8a602',\n",
              " 'M_ID_a877c86170',\n",
              " 'M_ID_a9c3b68127',\n",
              " 'M_ID_adae4539b4',\n",
              " 'M_ID_b139159236',\n",
              " 'M_ID_b220bdc087',\n",
              " 'M_ID_b626bd5996',\n",
              " 'M_ID_b6867f3bf4',\n",
              " 'M_ID_bb75f22f7b',\n",
              " 'M_ID_bc5cb48a86',\n",
              " 'M_ID_bd492c6666',\n",
              " 'M_ID_bda5edd84f',\n",
              " 'M_ID_bf7836070a',\n",
              " 'M_ID_c63e9bb7d4',\n",
              " 'M_ID_c9cc03462e',\n",
              " 'M_ID_e1220dfe76',\n",
              " 'M_ID_ea51315a47',\n",
              " 'M_ID_ed02b0dac2',\n",
              " 'M_ID_f06037b896',\n",
              " 'M_ID_f08ba8a2d4',\n",
              " 'M_ID_f1ab535812',\n",
              " 'M_ID_f226fa69e7',\n",
              " 'M_ID_f7349e960d',\n",
              " 'M_ID_f8ff2ae0cb',\n",
              " 'M_ID_fb27127105',\n",
              " 'C_ID_00f50add7b',\n",
              " 'M_ID_008742417f',\n",
              " 'M_ID_02c50d7b83',\n",
              " 'M_ID_042accd05b',\n",
              " 'M_ID_07d92a3b1b',\n",
              " 'M_ID_1994e0e271',\n",
              " 'M_ID_1ac5fdb696',\n",
              " 'M_ID_1d764fffa1',\n",
              " 'M_ID_1fe3b4e39d',\n",
              " 'M_ID_1fe95c6d42',\n",
              " 'M_ID_26d4fadb60',\n",
              " 'M_ID_26e07009f6',\n",
              " 'M_ID_2eb2cefbb1',\n",
              " 'M_ID_2f0b6d30c3',\n",
              " 'M_ID_309752ddea',\n",
              " 'M_ID_331b7a704b',\n",
              " 'M_ID_360e852ac4',\n",
              " 'M_ID_36bea70751',\n",
              " 'M_ID_39281990a1',\n",
              " 'M_ID_39c4515cb6',\n",
              " 'M_ID_4f0d384fbb',\n",
              " 'M_ID_561006ae64',\n",
              " 'M_ID_5746c748dd',\n",
              " 'M_ID_578c1f2b99',\n",
              " 'M_ID_5889bcbf4e',\n",
              " 'M_ID_5bbf12379f',\n",
              " 'M_ID_6075467977',\n",
              " 'M_ID_664d647a57',\n",
              " 'M_ID_6aa09cb59c',\n",
              " 'M_ID_6dbaf215eb',\n",
              " 'M_ID_6e596690b4',\n",
              " 'M_ID_725a60d404',\n",
              " 'M_ID_73ac22af5b',\n",
              " 'M_ID_73b5d99c29',\n",
              " 'M_ID_74fce5b288',\n",
              " 'M_ID_7919c3a185',\n",
              " 'M_ID_7b6e45a877',\n",
              " 'M_ID_7e21da58a5',\n",
              " 'M_ID_805042302a',\n",
              " 'M_ID_83e930c69b',\n",
              " 'M_ID_8a4f509d8d',\n",
              " 'M_ID_915115ed78',\n",
              " 'M_ID_9b01e33e0a',\n",
              " 'M_ID_a07b9716ee',\n",
              " ...]"
            ]
          },
          "metadata": {
            "tags": []
          },
          "execution_count": 8
        }
      ]
    },
    {
      "cell_type": "code",
      "metadata": {
        "id": "ZDvEZnMQPtIV",
        "colab_type": "code",
        "colab": {}
      },
      "source": [
        "##Node2Vec Algorithm\n",
        "import numpy as np\n",
        "from tqdm import tqdm\n",
        "import random"
      ],
      "execution_count": 0,
      "outputs": []
    },
    {
      "cell_type": "code",
      "metadata": {
        "id": "5XJ5nnAiPtLL",
        "colab_type": "code",
        "colab": {}
      },
      "source": [
        "##Please instantiate the class Graph present at the end of the code\n",
        "Gx = Graph(a,False,1,1)"
      ],
      "execution_count": 0,
      "outputs": []
    },
    {
      "cell_type": "code",
      "metadata": {
        "id": "3s31keZ9PtOH",
        "colab_type": "code",
        "colab": {
          "base_uri": "https://localhost:8080/",
          "height": 51
        },
        "outputId": "80e34a03-5dc9-4c4b-e6f4-1e3af0a4544b"
      },
      "source": [
        "Gx.preprocess_transition_probs()"
      ],
      "execution_count": 14,
      "outputs": [
        {
          "output_type": "stream",
          "text": [
            "100%|██████████| 104764/104764 [00:04<00:00, 22240.66it/s]\n",
            "100%|██████████| 280684/280684 [11:31<00:00, 406.09it/s] \n"
          ],
          "name": "stderr"
        }
      ]
    },
    {
      "cell_type": "code",
      "metadata": {
        "id": "jIOQ0o-VPtQl",
        "colab_type": "code",
        "colab": {
          "base_uri": "https://localhost:8080/",
          "height": 204
        },
        "outputId": "801acf49-6dd4-48ea-f23c-157d0b4fa23c"
      },
      "source": [
        "walks = Gx.simulate_walks(5,50)"
      ],
      "execution_count": 15,
      "outputs": [
        {
          "output_type": "stream",
          "text": [
            "  0%|          | 9/104764 [00:00<19:30, 89.48it/s]"
          ],
          "name": "stderr"
        },
        {
          "output_type": "stream",
          "text": [
            "Walk iteration:\n",
            "1 / 5\n"
          ],
          "name": "stdout"
        },
        {
          "output_type": "stream",
          "text": [
            "100%|██████████| 104764/104764 [14:29<00:00, 120.42it/s]\n",
            "  0%|          | 9/104764 [00:00<19:29, 89.60it/s]"
          ],
          "name": "stderr"
        },
        {
          "output_type": "stream",
          "text": [
            "2 / 5\n"
          ],
          "name": "stdout"
        },
        {
          "output_type": "stream",
          "text": [
            "100%|██████████| 104764/104764 [14:32<00:00, 120.09it/s]\n",
            "  0%|          | 10/104764 [00:00<17:32, 99.49it/s]"
          ],
          "name": "stderr"
        },
        {
          "output_type": "stream",
          "text": [
            "3 / 5\n"
          ],
          "name": "stdout"
        },
        {
          "output_type": "stream",
          "text": [
            "100%|██████████| 104764/104764 [14:31<00:00, 120.16it/s]\n",
            "  0%|          | 12/104764 [00:00<15:14, 114.53it/s]"
          ],
          "name": "stderr"
        },
        {
          "output_type": "stream",
          "text": [
            "4 / 5\n"
          ],
          "name": "stdout"
        },
        {
          "output_type": "stream",
          "text": [
            "100%|██████████| 104764/104764 [14:31<00:00, 120.15it/s]\n",
            "  0%|          | 12/104764 [00:00<15:04, 115.83it/s]"
          ],
          "name": "stderr"
        },
        {
          "output_type": "stream",
          "text": [
            "5 / 5\n"
          ],
          "name": "stdout"
        },
        {
          "output_type": "stream",
          "text": [
            "100%|██████████| 104764/104764 [14:27<00:00, 120.70it/s]\n"
          ],
          "name": "stderr"
        }
      ]
    },
    {
      "cell_type": "code",
      "metadata": {
        "id": "5_-TfTv-PtTO",
        "colab_type": "code",
        "colab": {}
      },
      "source": [
        "walks = [list(map(str, walk)) for walk in walks]"
      ],
      "execution_count": 0,
      "outputs": []
    },
    {
      "cell_type": "code",
      "metadata": {
        "id": "xAPz3g5XYq5x",
        "colab_type": "code",
        "colab": {
          "base_uri": "https://localhost:8080/",
          "height": 867
        },
        "outputId": "1f674b90-5829-4af7-8c1d-b2688b1de45e"
      },
      "source": [
        "walks[0]"
      ],
      "execution_count": 125,
      "outputs": [
        {
          "output_type": "execute_result",
          "data": {
            "text/plain": [
              "['M_ID_5563715761',\n",
              " 'C_ID_b0336c06a4',\n",
              " 'M_ID_9139332ccc',\n",
              " 'C_ID_d3af9f2599',\n",
              " 'M_ID_9139332ccc',\n",
              " 'C_ID_f961e4e512',\n",
              " 'M_ID_9139332ccc',\n",
              " 'C_ID_bda15a62e5',\n",
              " 'M_ID_9139332ccc',\n",
              " 'C_ID_a3bf4f7c9b',\n",
              " 'M_ID_9139332ccc',\n",
              " 'C_ID_7619409e9b',\n",
              " 'M_ID_17ef8dbbdf',\n",
              " 'C_ID_1c82316875',\n",
              " 'M_ID_45e3d0fd34',\n",
              " 'C_ID_9e5f13ce2a',\n",
              " 'M_ID_460c0da502',\n",
              " 'C_ID_9e5f13ce2a',\n",
              " 'M_ID_413293a476',\n",
              " 'C_ID_9e5f13ce2a',\n",
              " 'M_ID_fe67ccfa49',\n",
              " 'C_ID_9e5f13ce2a',\n",
              " 'M_ID_0ae6eedd1d',\n",
              " 'C_ID_9e5f13ce2a',\n",
              " 'M_ID_9139332ccc',\n",
              " 'C_ID_0029d52418',\n",
              " 'M_ID_e5374dabc0',\n",
              " 'C_ID_90843b7a94',\n",
              " 'M_ID_036120da01',\n",
              " 'C_ID_73e395d258',\n",
              " 'M_ID_54a517bfd3',\n",
              " 'C_ID_13150afab0',\n",
              " 'M_ID_0a8e17b40b',\n",
              " 'C_ID_13150afab0',\n",
              " 'M_ID_508ecbdcde',\n",
              " 'C_ID_92a98df78c',\n",
              " 'M_ID_ea3e266c07',\n",
              " 'C_ID_b6d0cbd35f',\n",
              " 'M_ID_ea3e266c07',\n",
              " 'C_ID_43135a3cbf',\n",
              " 'M_ID_8ecfd5c96f',\n",
              " 'C_ID_0b9de8de83',\n",
              " 'M_ID_cfc544702d',\n",
              " 'C_ID_5cbff52edf',\n",
              " 'M_ID_2c4b8c61f6',\n",
              " 'C_ID_8499fa76e4',\n",
              " 'M_ID_c4b40d432b',\n",
              " 'C_ID_8499fa76e4',\n",
              " 'M_ID_ea7dde9735',\n",
              " 'C_ID_1a6715dc4b']"
            ]
          },
          "metadata": {
            "tags": []
          },
          "execution_count": 125
        }
      ]
    },
    {
      "cell_type": "code",
      "metadata": {
        "id": "cO-v5zJfuPKV",
        "colab_type": "code",
        "colab": {}
      },
      "source": [
        "import pickle"
      ],
      "execution_count": 0,
      "outputs": []
    },
    {
      "cell_type": "code",
      "metadata": {
        "id": "htNsiQKLHrrA",
        "colab_type": "code",
        "colab": {}
      },
      "source": [
        "#Pickup incase already built - not required for first time\n",
        "import pickle\n",
        "with open('walks10.pkl', 'rb') as f:\n",
        "  walks = pickle.load(f)"
      ],
      "execution_count": 0,
      "outputs": []
    },
    {
      "cell_type": "code",
      "metadata": {
        "id": "f74qL8k3uBD6",
        "colab_type": "code",
        "colab": {}
      },
      "source": [
        "#Dump for later use\n",
        "with open('walks5.pkl', 'wb') as f:\n",
        "  pickle.dump(walks, f)"
      ],
      "execution_count": 0,
      "outputs": []
    },
    {
      "cell_type": "code",
      "metadata": {
        "id": "ZuzZOQYGuYNm",
        "colab_type": "code",
        "colab": {}
      },
      "source": [
        "from gensim.models import Word2Vec\n",
        "#model = Word2Vec(walks, size=20, window=5, min_count=0, sg=1, workers=-1, iter=1,compute_loss=True,alpha=0.001)"
      ],
      "execution_count": 0,
      "outputs": []
    },
    {
      "cell_type": "code",
      "metadata": {
        "id": "uZZLKrKXqie3",
        "colab_type": "code",
        "colab": {
          "base_uri": "https://localhost:8080/",
          "height": 34
        },
        "outputId": "f170c68a-b6c6-4998-b9fb-d0eda38be765"
      },
      "source": [
        "model.train(sentences=walks,total_examples=len(walks),epochs=100,report_delay=1)"
      ],
      "execution_count": 150,
      "outputs": [
        {
          "output_type": "execute_result",
          "data": {
            "text/plain": [
              "(2555947738, 2619100000)"
            ]
          },
          "metadata": {
            "tags": []
          },
          "execution_count": 150
        }
      ]
    },
    {
      "cell_type": "code",
      "metadata": {
        "id": "fbxqcbtx33u9",
        "colab_type": "code",
        "colab": {
          "base_uri": "https://localhost:8080/",
          "height": 122
        },
        "outputId": "c38e94e5-2e23-42e8-de61-e247fc623ac6"
      },
      "source": [
        "model=Word2Vec(iter=1)\n",
        "model.build_vocab(walks)\n",
        "for i in range(3):\n",
        "  model.train(sentences=walks,total_examples=len(walks),epochs=100,report_delay=1)\n",
        "  print(model['C_ID_0029d52418'][1:5])"
      ],
      "execution_count": 16,
      "outputs": [
        {
          "output_type": "stream",
          "text": [
            "/usr/local/lib/python3.6/dist-packages/ipykernel_launcher.py:5: DeprecationWarning: Call to deprecated `__getitem__` (Method will be removed in 4.0.0, use self.wv.__getitem__() instead).\n",
            "  \"\"\"\n"
          ],
          "name": "stderr"
        },
        {
          "output_type": "stream",
          "text": [
            "[3.0749118  0.93866116 2.3147695  3.0912123 ]\n",
            "[3.1759815 4.5310287 6.886882  6.013982 ]\n",
            "[1.1941906 9.636107  6.2851434 9.638788 ]\n"
          ],
          "name": "stdout"
        }
      ]
    },
    {
      "cell_type": "code",
      "metadata": {
        "id": "kqGHOXTOEzJJ",
        "colab_type": "code",
        "colab": {
          "base_uri": "https://localhost:8080/",
          "height": 71
        },
        "outputId": "f24db9b5-f90c-424f-ff03-e01f943018c3"
      },
      "source": [
        "X = model[model.wv.vocab]"
      ],
      "execution_count": 10,
      "outputs": [
        {
          "output_type": "stream",
          "text": [
            "/usr/local/lib/python3.6/dist-packages/ipykernel_launcher.py:1: DeprecationWarning: Call to deprecated `__getitem__` (Method will be removed in 4.0.0, use self.wv.__getitem__() instead).\n",
            "  \"\"\"Entry point for launching an IPython kernel.\n"
          ],
          "name": "stderr"
        }
      ]
    },
    {
      "cell_type": "code",
      "metadata": {
        "id": "h6Qxh7_aE41N",
        "colab_type": "code",
        "colab": {}
      },
      "source": [
        "from sklearn.decomposition import PCA"
      ],
      "execution_count": 0,
      "outputs": []
    },
    {
      "cell_type": "code",
      "metadata": {
        "id": "V02EPmC_Tqzd",
        "colab_type": "code",
        "colab": {
          "base_uri": "https://localhost:8080/",
          "height": 34
        },
        "outputId": "dcbb37f9-c926-465d-8f3d-44ac547a2763"
      },
      "source": [
        "pca.explained_variance_"
      ],
      "execution_count": 145,
      "outputs": [
        {
          "output_type": "execute_result",
          "data": {
            "text/plain": [
              "array([20.43038811, 18.55214866])"
            ]
          },
          "metadata": {
            "tags": []
          },
          "execution_count": 145
        }
      ]
    },
    {
      "cell_type": "code",
      "metadata": {
        "id": "qCnVkxBOE5ZK",
        "colab_type": "code",
        "colab": {}
      },
      "source": [
        "pca = PCA(n_components=2)\n",
        "result = pca.fit_transform(X)"
      ],
      "execution_count": 0,
      "outputs": []
    },
    {
      "cell_type": "code",
      "metadata": {
        "id": "VGHNLGDfE5bS",
        "colab_type": "code",
        "colab": {
          "base_uri": "https://localhost:8080/",
          "height": 34
        },
        "outputId": "1a461f59-403e-4ddb-c4b6-796bc36f79d5"
      },
      "source": [
        "result.shape\n",
        "len(list(model.wv.vocab))"
      ],
      "execution_count": 133,
      "outputs": [
        {
          "output_type": "execute_result",
          "data": {
            "text/plain": [
              "104764"
            ]
          },
          "metadata": {
            "tags": []
          },
          "execution_count": 133
        }
      ]
    },
    {
      "cell_type": "code",
      "metadata": {
        "id": "uxtFOFa-KE6u",
        "colab_type": "code",
        "colab": {}
      },
      "source": [
        "cols=[ 'red' if x[:1]=='M'  else 'green' if x in(['C_ID_0029d52418']) else 'yellow' if x[:1] =='C' else 'black' for x in words ]\n",
        "#else 'green' if x.isin(['C_ID_0029d52418'])\n",
        "#cols"
      ],
      "execution_count": 0,
      "outputs": []
    },
    {
      "cell_type": "code",
      "metadata": {
        "id": "EnQWSTNNSTLn",
        "colab_type": "code",
        "colab": {
          "base_uri": "https://localhost:8080/",
          "height": 85
        },
        "outputId": "caa05af6-ba77-4d79-c2b7-e08f8948412d"
      },
      "source": [
        "ls"
      ],
      "execution_count": 122,
      "outputs": [
        {
          "output_type": "stream",
          "text": [
            " card_merchant.csv          Get_nodeid.ipynb              train.csv\n",
            " CID_MID_filtered.gpickle   historical_transactions.csv   walks5.pkl\n",
            " CID_MID.gpickle            merchant_category.csv\n",
            "'Elo_E (3).ipynb'           test.csv\n"
          ],
          "name": "stdout"
        }
      ]
    },
    {
      "cell_type": "code",
      "metadata": {
        "id": "z3DtpcTrSAu8",
        "colab_type": "code",
        "colab": {}
      },
      "source": [
        "ll=pd.read_csv(\"../../../Least Loyal.csv\")\n",
        "ml=pd.read_csv('../../../Most Loyal.csv')"
      ],
      "execution_count": 0,
      "outputs": []
    },
    {
      "cell_type": "code",
      "metadata": {
        "id": "aX-JqiVCOB77",
        "colab_type": "code",
        "colab": {}
      },
      "source": [
        "import seaborn as sns\n",
        "import pandas as pd"
      ],
      "execution_count": 0,
      "outputs": []
    },
    {
      "cell_type": "code",
      "metadata": {
        "id": "z6XkfASXPKUA",
        "colab_type": "code",
        "colab": {
          "base_uri": "https://localhost:8080/",
          "height": 204
        },
        "outputId": "183120d6-3bc8-4c9b-a693-3685f3e02e77"
      },
      "source": [
        "df_plot=pd.DataFrame(result,columns=['X','Y'],index=words)\n",
        "df_plot.head()\n",
        "#df_plot[df_plot.Type=='Outlier']"
      ],
      "execution_count": 146,
      "outputs": [
        {
          "output_type": "execute_result",
          "data": {
            "text/html": [
              "<div>\n",
              "<style scoped>\n",
              "    .dataframe tbody tr th:only-of-type {\n",
              "        vertical-align: middle;\n",
              "    }\n",
              "\n",
              "    .dataframe tbody tr th {\n",
              "        vertical-align: top;\n",
              "    }\n",
              "\n",
              "    .dataframe thead th {\n",
              "        text-align: right;\n",
              "    }\n",
              "</style>\n",
              "<table border=\"1\" class=\"dataframe\">\n",
              "  <thead>\n",
              "    <tr style=\"text-align: right;\">\n",
              "      <th></th>\n",
              "      <th>X</th>\n",
              "      <th>Y</th>\n",
              "    </tr>\n",
              "  </thead>\n",
              "  <tbody>\n",
              "    <tr>\n",
              "      <th>M_ID_5563715761</th>\n",
              "      <td>2.197386</td>\n",
              "      <td>-4.738609</td>\n",
              "    </tr>\n",
              "    <tr>\n",
              "      <th>C_ID_b0336c06a4</th>\n",
              "      <td>-0.961917</td>\n",
              "      <td>12.348331</td>\n",
              "    </tr>\n",
              "    <tr>\n",
              "      <th>M_ID_9139332ccc</th>\n",
              "      <td>0.976782</td>\n",
              "      <td>-7.564216</td>\n",
              "    </tr>\n",
              "    <tr>\n",
              "      <th>C_ID_d3af9f2599</th>\n",
              "      <td>-2.722755</td>\n",
              "      <td>12.627214</td>\n",
              "    </tr>\n",
              "    <tr>\n",
              "      <th>C_ID_f961e4e512</th>\n",
              "      <td>-3.887968</td>\n",
              "      <td>8.953777</td>\n",
              "    </tr>\n",
              "  </tbody>\n",
              "</table>\n",
              "</div>"
            ],
            "text/plain": [
              "                        X          Y\n",
              "M_ID_5563715761  2.197386  -4.738609\n",
              "C_ID_b0336c06a4 -0.961917  12.348331\n",
              "M_ID_9139332ccc  0.976782  -7.564216\n",
              "C_ID_d3af9f2599 -2.722755  12.627214\n",
              "C_ID_f961e4e512 -3.887968   8.953777"
            ]
          },
          "metadata": {
            "tags": []
          },
          "execution_count": 146
        }
      ]
    },
    {
      "cell_type": "code",
      "metadata": {
        "id": "3E6STSgqPm0u",
        "colab_type": "code",
        "colab": {}
      },
      "source": [
        "df_plot['Type']=[ 'Merchant' if x[:1]=='M'  else 'Outlier' if x in (list(ll.card_id)) else 'Most Loyal' if x in (list(ml.card_id)) else 'Regular Customer' if x[:1] =='C' else 'black' for x in words ]\n"
      ],
      "execution_count": 0,
      "outputs": []
    },
    {
      "cell_type": "code",
      "metadata": {
        "id": "vvZuPEZIOFTm",
        "colab_type": "code",
        "colab": {
          "base_uri": "https://localhost:8080/",
          "height": 680
        },
        "outputId": "7fc0fc0a-72ca-49e6-a1f0-a2990409252e"
      },
      "source": [
        "plt.figure(figsize=(10,10))\n",
        "sns.scatterplot('X','Y',alpha =1,hue='Type',data=df_plot[df_plot!='Merchant'],markers='Type')"
      ],
      "execution_count": 148,
      "outputs": [
        {
          "output_type": "stream",
          "text": [
            "/usr/local/lib/python3.6/dist-packages/pandas/core/ops.py:1649: FutureWarning: elementwise comparison failed; returning scalar instead, but in the future will perform elementwise comparison\n",
            "  result = method(y)\n"
          ],
          "name": "stderr"
        },
        {
          "output_type": "execute_result",
          "data": {
            "text/plain": [
              "<matplotlib.axes._subplots.AxesSubplot at 0x7fb6ffbb0b38>"
            ]
          },
          "metadata": {
            "tags": []
          },
          "execution_count": 148
        },
        {
          "output_type": "display_data",
          "data": {
            "image/png": "[encoded data removed]",
            "text/plain": [
              "<Figure size 720x720 with 1 Axes>"
            ]
          },
          "metadata": {
            "tags": []
          }
        }
      ]
    },
    {
      "cell_type": "code",
      "metadata": {
        "id": "dnu4t5-0FBcb",
        "colab_type": "code",
        "colab": {
          "base_uri": "https://localhost:8080/",
          "height": 595
        },
        "outputId": "4da8e0c1-49f3-4b17-f264-77a0f7425fe6"
      },
      "source": [
        "# create a scatter plot of the projection\n",
        "import matplotlib.pyplot as plt\n",
        "plt.figure(figsize=(10,10))\n",
        "plt.scatter(result[:, 0], result[:, 1],c=cols)\n",
        "# words = list(model.wv.vocab)\n",
        "# for i, word in enumerate(words):\n",
        "#     plt.annotate(word, xy=(result[i, 0], result[i, 1]))\n",
        "plt.show()"
      ],
      "execution_count": 79,
      "outputs": [
        {
          "output_type": "display_data",
          "data": {
            "image/png": "[encoded data removed]",
            "text/plain": [
              "<Figure size 720x720 with 1 Axes>"
            ]
          },
          "metadata": {
            "tags": []
          }
        }
      ]
    },
    {
      "cell_type": "code",
      "metadata": {
        "id": "kaTqm45f4vdz",
        "colab_type": "code",
        "colab": {
          "base_uri": "https://localhost:8080/",
          "height": 34
        },
        "outputId": "5d98c82f-6475-41fa-95c3-fa5450cf905e"
      },
      "source": [
        "len(walks)"
      ],
      "execution_count": 38,
      "outputs": [
        {
          "output_type": "execute_result",
          "data": {
            "text/plain": [
              "523820"
            ]
          },
          "metadata": {
            "tags": []
          },
          "execution_count": 38
        }
      ]
    },
    {
      "cell_type": "code",
      "metadata": {
        "id": "p25lWKF78HM5",
        "colab_type": "code",
        "colab": {}
      },
      "source": [
        ""
      ],
      "execution_count": 0,
      "outputs": []
    },
    {
      "cell_type": "code",
      "metadata": {
        "id": "GFtc_RqO9Oy9",
        "colab_type": "code",
        "colab": {
          "base_uri": "https://localhost:8080/",
          "height": 258
        },
        "outputId": "efe928fa-0748-4a40-d132-34d973bce59d"
      },
      "source": [
        "model['C_ID_0029d52418']"
      ],
      "execution_count": 52,
      "outputs": [
        {
          "output_type": "stream",
          "text": [
            "/usr/local/lib/python3.6/dist-packages/ipykernel_launcher.py:1: DeprecationWarning: Call to deprecated `__getitem__` (Method will be removed in 4.0.0, use self.wv.__getitem__() instead).\n",
            "  \"\"\"Entry point for launching an IPython kernel.\n"
          ],
          "name": "stderr"
        },
        {
          "output_type": "execute_result",
          "data": {
            "text/plain": [
              "array([-0.00810406,  0.00926737, -0.00189825,  0.00090863,  0.00873641,\n",
              "       -0.00057459,  0.000964  , -0.00928709,  0.00177636, -0.00791119,\n",
              "       -0.00877499,  0.00589581, -0.00481938, -0.00545387,  0.00447908,\n",
              "       -0.0062985 , -0.0021217 , -0.0088469 , -0.00092595, -0.00586849,\n",
              "        0.0001269 ,  0.00155718, -0.00190836, -0.00937378, -0.00578464,\n",
              "        0.00463522,  0.00762696,  0.00857325, -0.0068844 , -0.00657996,\n",
              "        0.00529103,  0.00239389,  0.00166104,  0.00403062,  0.00954122,\n",
              "       -0.00337433,  0.00250363, -0.00707133, -0.00235641,  0.00178378,\n",
              "        0.00582948, -0.00471845,  0.00938609, -0.00073365, -0.00256739,\n",
              "        0.0013674 , -0.00678335, -0.00347439,  0.00051579, -0.00191914],\n",
              "      dtype=float32)"
            ]
          },
          "metadata": {
            "tags": []
          },
          "execution_count": 52
        }
      ]
    },
    {
      "cell_type": "code",
      "metadata": {
        "id": "ziSX5aHf748A",
        "colab_type": "code",
        "colab": {
          "base_uri": "https://localhost:8080/",
          "height": 258
        },
        "outputId": "d42f70ff-920c-4b10-d37b-33f3d5a9cdde"
      },
      "source": [
        "model.running_training_loss\n",
        "model['C_ID_0029d52418']"
      ],
      "execution_count": 48,
      "outputs": [
        {
          "output_type": "stream",
          "text": [
            "/usr/local/lib/python3.6/dist-packages/ipykernel_launcher.py:2: DeprecationWarning: Call to deprecated `__getitem__` (Method will be removed in 4.0.0, use self.wv.__getitem__() instead).\n",
            "  \n"
          ],
          "name": "stderr"
        },
        {
          "output_type": "execute_result",
          "data": {
            "text/plain": [
              "array([-0.00810406,  0.00926737, -0.00189825,  0.00090863,  0.00873641,\n",
              "       -0.00057459,  0.000964  , -0.00928709,  0.00177636, -0.00791119,\n",
              "       -0.00877499,  0.00589581, -0.00481938, -0.00545387,  0.00447908,\n",
              "       -0.0062985 , -0.0021217 , -0.0088469 , -0.00092595, -0.00586849,\n",
              "        0.0001269 ,  0.00155718, -0.00190836, -0.00937378, -0.00578464,\n",
              "        0.00463522,  0.00762696,  0.00857325, -0.0068844 , -0.00657996,\n",
              "        0.00529103,  0.00239389,  0.00166104,  0.00403062,  0.00954122,\n",
              "       -0.00337433,  0.00250363, -0.00707133, -0.00235641,  0.00178378,\n",
              "        0.00582948, -0.00471845,  0.00938609, -0.00073365, -0.00256739,\n",
              "        0.0013674 , -0.00678335, -0.00347439,  0.00051579, -0.00191914],\n",
              "      dtype=float32)"
            ]
          },
          "metadata": {
            "tags": []
          },
          "execution_count": 48
        }
      ]
    },
    {
      "cell_type": "code",
      "metadata": {
        "id": "AyUqF3jw22aQ",
        "colab_type": "code",
        "colab": {
          "base_uri": "https://localhost:8080/",
          "height": 241
        },
        "outputId": "1ed75215-f619-4495-c260-a2080a1f61e5"
      },
      "source": [
        "#model.accuracy()\n",
        "model.wv.most_similar(positive='C_ID_0029d52418')"
      ],
      "execution_count": 149,
      "outputs": [
        {
          "output_type": "stream",
          "text": [
            "/usr/local/lib/python3.6/dist-packages/gensim/matutils.py:737: FutureWarning: Conversion of the second argument of issubdtype from `int` to `np.signedinteger` is deprecated. In future, it will be treated as `np.int64 == np.dtype(int).type`.\n",
            "  if np.issubdtype(vec.dtype, np.int):\n"
          ],
          "name": "stderr"
        },
        {
          "output_type": "execute_result",
          "data": {
            "text/plain": [
              "[('C_ID_79d149c008', 0.750752329826355),\n",
              " ('C_ID_bf716e3769', 0.7345194220542908),\n",
              " ('C_ID_a29e2e37f2', 0.7131913900375366),\n",
              " ('C_ID_a657caacc8', 0.7110166549682617),\n",
              " ('C_ID_e1024e4f4d', 0.7098616361618042),\n",
              " ('C_ID_2ca298c2af', 0.6753972172737122),\n",
              " ('C_ID_8290e569b7', 0.6709859371185303),\n",
              " ('C_ID_6ee4a4265d', 0.668531596660614),\n",
              " ('C_ID_fa1f97be66', 0.666723370552063),\n",
              " ('C_ID_4c90012541', 0.6637933850288391)]"
            ]
          },
          "metadata": {
            "tags": []
          },
          "execution_count": 149
        }
      ]
    },
    {
      "cell_type": "code",
      "metadata": {
        "id": "dcVyUeIPKB3_",
        "colab_type": "code",
        "colab": {}
      },
      "source": [
        "import matplotlib.pyplot as plt\n",
        "#plt.figure(figsize=(10,10))\n",
        "#nx.draw(cid_mid,size=0.5,alpha=0.3)\n",
        "#plt.show()"
      ],
      "execution_count": 0,
      "outputs": []
    },
    {
      "cell_type": "code",
      "metadata": {
        "id": "6bXWEmvB5ZWL",
        "colab_type": "code",
        "colab": {}
      },
      "source": [
        "Gx = Graph(cid_mid,False,1,1)"
      ],
      "execution_count": 0,
      "outputs": []
    },
    {
      "cell_type": "code",
      "metadata": {
        "id": "s-094OKw5izd",
        "colab_type": "code",
        "colab": {
          "base_uri": "https://localhost:8080/",
          "height": 51
        },
        "outputId": "1490c883-f36e-4c56-b6a4-cc1babd9e8ad"
      },
      "source": [
        "Gx.preprocess_transition_probs()"
      ],
      "execution_count": 0,
      "outputs": [
        {
          "output_type": "stream",
          "text": [
            "100%|██████████| 651851/651851 [01:41<00:00, 6420.27it/s]\n",
            "  0%|          | 35941/10981505 [44:18<1252:01:41,  2.43it/s]"
          ],
          "name": "stderr"
        }
      ]
    },
    {
      "cell_type": "code",
      "metadata": {
        "id": "d22r2C1-5INj",
        "colab_type": "code",
        "colab": {}
      },
      "source": [
        "\n",
        "\n",
        "class Graph():\n",
        "\tdef __init__(self, nx_G, is_directed, p, q):\n",
        "\t\tself.G = nx_G\n",
        "\t\tself.is_directed = is_directed\n",
        "\t\tself.p = p\n",
        "\t\tself.q = q\n",
        "\n",
        "\tdef node2vec_walk(self, walk_length, start_node):\n",
        "\t\t'''\n",
        "\t\tSimulate a random walk starting from start node.\n",
        "\t\t'''\n",
        "\t\tG = self.G\n",
        "\t\talias_nodes = self.alias_nodes\n",
        "\t\talias_edges = self.alias_edges\n",
        "\n",
        "\t\twalk = [start_node]\n",
        "\n",
        "\t\twhile len(walk) < walk_length:\n",
        "\t\t\tcur = walk[-1]\n",
        "\t\t\tcur_nbrs = sorted(G.neighbors(cur))\n",
        "\t\t\tif len(cur_nbrs) > 0:\n",
        "\t\t\t\tif len(walk) == 1:\n",
        "\t\t\t\t\twalk.append(cur_nbrs[alias_draw(alias_nodes[cur][0], alias_nodes[cur][1])])\n",
        "\t\t\t\telse:\n",
        "\t\t\t\t\tprev = walk[-2]\n",
        "\t\t\t\t\tnext = cur_nbrs[alias_draw(alias_edges[(prev, cur)][0], \n",
        "\t\t\t\t\t\talias_edges[(prev, cur)][1])]\n",
        "\t\t\t\t\twalk.append(next)\n",
        "\t\t\telse:\n",
        "\t\t\t\tbreak\n",
        "\n",
        "\t\treturn walk\n",
        "\n",
        "\tdef simulate_walks(self, num_walks, walk_length):\n",
        "\t\t'''\n",
        "\t\tRepeatedly simulate random walks from each node.\n",
        "\t\t'''\n",
        "\t\tG = self.G\n",
        "\t\twalks = []\n",
        "\t\tnodes = list(G.nodes())\n",
        "\t\tprint('Walk iteration:')\n",
        "\t\tfor walk_iter in range(num_walks):\n",
        "\t\t\tprint(str(walk_iter+1), '/', str(num_walks))\n",
        "\t\t\trandom.shuffle(nodes)\n",
        "\t\t\tfor node in tqdm(nodes):\n",
        "\t\t\t\twalks.append(self.node2vec_walk(walk_length=walk_length, start_node=node))\n",
        "\n",
        "\t\treturn walks\n",
        "\n",
        "\tdef get_alias_edge(self, src, dst):\n",
        "\t\t'''\n",
        "\t\tGet the alias edge setup lists for a given edge.\n",
        "\t\t'''\n",
        "\t\tG = self.G\n",
        "\t\tp = self.p\n",
        "\t\tq = self.q\n",
        "\n",
        "\t\tunnormalized_probs = []\n",
        "\t\tfor dst_nbr in sorted(G.neighbors(dst)):\n",
        "\t\t\tif dst_nbr == src:\n",
        "\t\t\t\tunnormalized_probs.append(G[dst][dst_nbr]['weight']/p)\n",
        "\t\t\telif G.has_edge(dst_nbr, src):\n",
        "\t\t\t\tunnormalized_probs.append(G[dst][dst_nbr]['weight'])\n",
        "\t\t\telse:\n",
        "\t\t\t\tunnormalized_probs.append(G[dst][dst_nbr]['weight']/q)\n",
        "\t\tnorm_const = sum(unnormalized_probs)\n",
        "\t\tnormalized_probs =  [float(u_prob)/norm_const for u_prob in unnormalized_probs]\n",
        "\n",
        "\t\treturn alias_setup(normalized_probs)\n",
        "\n",
        "\tdef preprocess_transition_probs(self):\n",
        "\t\t'''\n",
        "\t\tPreprocessing of transition probabilities for guiding the random walks.\n",
        "\t\t'''\n",
        "\t\tG = self.G\n",
        "\t\tis_directed = self.is_directed\n",
        "\n",
        "\t\talias_nodes = {}\n",
        "\t\tfor node in tqdm(G.nodes()):\n",
        "\t\t\tunnormalized_probs = [G[node][nbr]['weight'] for nbr in sorted(G.neighbors(node))]\n",
        "\t\t\tnorm_const = sum(unnormalized_probs)\n",
        "\t\t\tnormalized_probs =  [float(u_prob)/norm_const for u_prob in unnormalized_probs]\n",
        "\t\t\talias_nodes[node] = alias_setup(normalized_probs)\n",
        "\n",
        "\t\talias_edges = {}\n",
        "\t\ttriads = {}\n",
        "\n",
        "\t\tif is_directed:\n",
        "\t\t\tfor edge in G.edges():\n",
        "\t\t\t\talias_edges[edge] = self.get_alias_edge(edge[0], edge[1])\n",
        "\t\telse:\n",
        "\t\t\tfor edge in tqdm(G.edges()):\n",
        "\t\t\t\talias_edges[edge] = self.get_alias_edge(edge[0], edge[1])\n",
        "\t\t\t\talias_edges[(edge[1], edge[0])] = self.get_alias_edge(edge[1], edge[0])\n",
        "\n",
        "\t\tself.alias_nodes = alias_nodes\n",
        "\t\tself.alias_edges = alias_edges\n",
        "\n",
        "\t\treturn\n",
        "\n",
        "\n",
        "def alias_setup(probs):\n",
        "\t'''\n",
        "\tCompute utility lists for non-uniform sampling from discrete distributions.\n",
        "\tRefer to https://hips.seas.harvard.edu/blog/2013/03/03/the-alias-method-efficient-sampling-with-many-discrete-outcomes/\n",
        "\tfor details\n",
        "\t'''\n",
        "\tK = len(probs)\n",
        "\tq = np.zeros(K)\n",
        "\tJ = np.zeros(K, dtype=np.int)\n",
        "\n",
        "\tsmaller = []\n",
        "\tlarger = []\n",
        "\tfor kk, prob in enumerate(probs):\n",
        "\t    q[kk] = K*prob\n",
        "\t    if q[kk] < 1.0:\n",
        "\t        smaller.append(kk)\n",
        "\t    else:\n",
        "\t        larger.append(kk)\n",
        "\n",
        "\twhile len(smaller) > 0 and len(larger) > 0:\n",
        "\t    small = smaller.pop()\n",
        "\t    large = larger.pop()\n",
        "\n",
        "\t    J[small] = large\n",
        "\t    q[large] = q[large] + q[small] - 1.0\n",
        "\t    if q[large] < 1.0:\n",
        "\t        smaller.append(large)\n",
        "\t    else:\n",
        "\t        larger.append(large)\n",
        "\n",
        "\treturn J, q\n",
        "\n",
        "def alias_draw(J, q):\n",
        "\t'''\n",
        "\tDraw sample from a non-uniform discrete distribution using alias sampling.\n",
        "\t'''\n",
        "\tK = len(J)\n",
        "\n",
        "\tkk = int(np.floor(np.random.rand()*K))\n",
        "\tif np.random.rand() < q[kk]:\n",
        "\t    return kk\n",
        "\telse:\n",
        "\t    return J[kk]"
      ],
      "execution_count": 0,
      "outputs": []
    },
    {
      "cell_type": "code",
      "metadata": {
        "id": "6dBEVShn5Stw",
        "colab_type": "code",
        "colab": {}
      },
      "source": [
        "#Classifier"
      ],
      "execution_count": 0,
      "outputs": []
    },
    {
      "cell_type": "code",
      "metadata": {
        "id": "4o7ViTLy7QmY",
        "colab_type": "code",
        "colab": {}
      },
      "source": [
        "from sklearn.ensemble import RandomForestClassifier\n",
        "from sklearn.datasets import make_classification"
      ],
      "execution_count": 0,
      "outputs": []
    },
    {
      "cell_type": "code",
      "metadata": {
        "id": "bn16PNs0811o",
        "colab_type": "code",
        "colab": {}
      },
      "source": [
        "words = list(model.wv.vocab)\n",
        "labels=[ 'Merchant' if x[:1]=='M'  else 'Outlier' if x in (list(ll.card_id)) else 'Most Loyal' if x in (list(ml.card_id)) else 'Regular Customer' if x[:1] =='C' else 'black' for x in words ]\n"
      ],
      "execution_count": 0,
      "outputs": []
    },
    {
      "cell_type": "code",
      "metadata": {
        "id": "2E6QcDTO9Q8E",
        "colab_type": "code",
        "colab": {}
      },
      "source": [
        "import pandas as pd\n",
        "X_fit= pd.DataFrame(X)\n",
        "X_fit['labels']=labels"
      ],
      "execution_count": 0,
      "outputs": []
    },
    {
      "cell_type": "code",
      "metadata": {
        "id": "FU45QV1E-4Nk",
        "colab_type": "code",
        "colab": {
          "base_uri": "https://localhost:8080/",
          "height": 287
        },
        "outputId": "c168bd16-555d-44b3-fa30-611a246b96df"
      },
      "source": [
        "X_fit.head()"
      ],
      "execution_count": 26,
      "outputs": [
        {
          "output_type": "execute_result",
          "data": {
            "text/html": [
              "<div>\n",
              "<style scoped>\n",
              "    .dataframe tbody tr th:only-of-type {\n",
              "        vertical-align: middle;\n",
              "    }\n",
              "\n",
              "    .dataframe tbody tr th {\n",
              "        vertical-align: top;\n",
              "    }\n",
              "\n",
              "    .dataframe thead th {\n",
              "        text-align: right;\n",
              "    }\n",
              "</style>\n",
              "<table border=\"1\" class=\"dataframe\">\n",
              "  <thead>\n",
              "    <tr style=\"text-align: right;\">\n",
              "      <th></th>\n",
              "      <th>0</th>\n",
              "      <th>1</th>\n",
              "      <th>2</th>\n",
              "      <th>3</th>\n",
              "      <th>4</th>\n",
              "      <th>5</th>\n",
              "      <th>6</th>\n",
              "      <th>7</th>\n",
              "      <th>8</th>\n",
              "      <th>9</th>\n",
              "      <th>...</th>\n",
              "      <th>11</th>\n",
              "      <th>12</th>\n",
              "      <th>13</th>\n",
              "      <th>14</th>\n",
              "      <th>15</th>\n",
              "      <th>16</th>\n",
              "      <th>17</th>\n",
              "      <th>18</th>\n",
              "      <th>19</th>\n",
              "      <th>labels</th>\n",
              "    </tr>\n",
              "  </thead>\n",
              "  <tbody>\n",
              "    <tr>\n",
              "      <th>0</th>\n",
              "      <td>-0.019410</td>\n",
              "      <td>0.020645</td>\n",
              "      <td>0.014745</td>\n",
              "      <td>0.024579</td>\n",
              "      <td>-0.015855</td>\n",
              "      <td>0.002208</td>\n",
              "      <td>0.013609</td>\n",
              "      <td>-0.007552</td>\n",
              "      <td>0.021224</td>\n",
              "      <td>-0.015801</td>\n",
              "      <td>...</td>\n",
              "      <td>-0.016014</td>\n",
              "      <td>0.022517</td>\n",
              "      <td>0.006211</td>\n",
              "      <td>-0.012299</td>\n",
              "      <td>-0.001944</td>\n",
              "      <td>-0.008715</td>\n",
              "      <td>0.013813</td>\n",
              "      <td>0.010460</td>\n",
              "      <td>0.008999</td>\n",
              "      <td>Merchant</td>\n",
              "    </tr>\n",
              "    <tr>\n",
              "      <th>1</th>\n",
              "      <td>0.020750</td>\n",
              "      <td>0.019951</td>\n",
              "      <td>-0.018923</td>\n",
              "      <td>-0.004443</td>\n",
              "      <td>-0.018693</td>\n",
              "      <td>-0.010765</td>\n",
              "      <td>0.006233</td>\n",
              "      <td>-0.006155</td>\n",
              "      <td>-0.004072</td>\n",
              "      <td>-0.012528</td>\n",
              "      <td>...</td>\n",
              "      <td>0.005481</td>\n",
              "      <td>-0.006053</td>\n",
              "      <td>-0.013828</td>\n",
              "      <td>-0.005689</td>\n",
              "      <td>-0.021217</td>\n",
              "      <td>-0.012987</td>\n",
              "      <td>0.018673</td>\n",
              "      <td>-0.007351</td>\n",
              "      <td>0.002659</td>\n",
              "      <td>Regular Customer</td>\n",
              "    </tr>\n",
              "    <tr>\n",
              "      <th>2</th>\n",
              "      <td>-0.012622</td>\n",
              "      <td>0.001051</td>\n",
              "      <td>0.001372</td>\n",
              "      <td>0.004463</td>\n",
              "      <td>-0.003995</td>\n",
              "      <td>-0.001304</td>\n",
              "      <td>0.010785</td>\n",
              "      <td>-0.015173</td>\n",
              "      <td>-0.007859</td>\n",
              "      <td>0.017722</td>\n",
              "      <td>...</td>\n",
              "      <td>-0.018963</td>\n",
              "      <td>-0.020700</td>\n",
              "      <td>0.012294</td>\n",
              "      <td>-0.003862</td>\n",
              "      <td>-0.007251</td>\n",
              "      <td>0.002260</td>\n",
              "      <td>-0.017374</td>\n",
              "      <td>-0.024595</td>\n",
              "      <td>0.000994</td>\n",
              "      <td>Merchant</td>\n",
              "    </tr>\n",
              "    <tr>\n",
              "      <th>3</th>\n",
              "      <td>-0.007524</td>\n",
              "      <td>0.014888</td>\n",
              "      <td>0.010614</td>\n",
              "      <td>-0.020418</td>\n",
              "      <td>-0.015001</td>\n",
              "      <td>-0.009615</td>\n",
              "      <td>0.002257</td>\n",
              "      <td>-0.020358</td>\n",
              "      <td>-0.024462</td>\n",
              "      <td>0.018971</td>\n",
              "      <td>...</td>\n",
              "      <td>-0.006748</td>\n",
              "      <td>-0.021228</td>\n",
              "      <td>0.007955</td>\n",
              "      <td>0.024308</td>\n",
              "      <td>-0.011138</td>\n",
              "      <td>-0.006098</td>\n",
              "      <td>-0.021006</td>\n",
              "      <td>0.009431</td>\n",
              "      <td>0.021420</td>\n",
              "      <td>Regular Customer</td>\n",
              "    </tr>\n",
              "    <tr>\n",
              "      <th>4</th>\n",
              "      <td>0.013336</td>\n",
              "      <td>0.013258</td>\n",
              "      <td>0.005640</td>\n",
              "      <td>-0.007362</td>\n",
              "      <td>0.006116</td>\n",
              "      <td>0.011723</td>\n",
              "      <td>0.002430</td>\n",
              "      <td>0.006676</td>\n",
              "      <td>-0.019704</td>\n",
              "      <td>-0.024925</td>\n",
              "      <td>...</td>\n",
              "      <td>0.017478</td>\n",
              "      <td>-0.007378</td>\n",
              "      <td>0.005120</td>\n",
              "      <td>0.007080</td>\n",
              "      <td>-0.004199</td>\n",
              "      <td>-0.015067</td>\n",
              "      <td>-0.016381</td>\n",
              "      <td>0.012425</td>\n",
              "      <td>0.011546</td>\n",
              "      <td>Merchant</td>\n",
              "    </tr>\n",
              "  </tbody>\n",
              "</table>\n",
              "<p>5 rows × 21 columns</p>\n",
              "</div>"
            ],
            "text/plain": [
              "          0         1         2         3         4         5         6  \\\n",
              "0 -0.019410  0.020645  0.014745  0.024579 -0.015855  0.002208  0.013609   \n",
              "1  0.020750  0.019951 -0.018923 -0.004443 -0.018693 -0.010765  0.006233   \n",
              "2 -0.012622  0.001051  0.001372  0.004463 -0.003995 -0.001304  0.010785   \n",
              "3 -0.007524  0.014888  0.010614 -0.020418 -0.015001 -0.009615  0.002257   \n",
              "4  0.013336  0.013258  0.005640 -0.007362  0.006116  0.011723  0.002430   \n",
              "\n",
              "          7         8         9  ...        11        12        13        14  \\\n",
              "0 -0.007552  0.021224 -0.015801  ... -0.016014  0.022517  0.006211 -0.012299   \n",
              "1 -0.006155 -0.004072 -0.012528  ...  0.005481 -0.006053 -0.013828 -0.005689   \n",
              "2 -0.015173 -0.007859  0.017722  ... -0.018963 -0.020700  0.012294 -0.003862   \n",
              "3 -0.020358 -0.024462  0.018971  ... -0.006748 -0.021228  0.007955  0.024308   \n",
              "4  0.006676 -0.019704 -0.024925  ...  0.017478 -0.007378  0.005120  0.007080   \n",
              "\n",
              "         15        16        17        18        19            labels  \n",
              "0 -0.001944 -0.008715  0.013813  0.010460  0.008999          Merchant  \n",
              "1 -0.021217 -0.012987  0.018673 -0.007351  0.002659  Regular Customer  \n",
              "2 -0.007251  0.002260 -0.017374 -0.024595  0.000994          Merchant  \n",
              "3 -0.011138 -0.006098 -0.021006  0.009431  0.021420  Regular Customer  \n",
              "4 -0.004199 -0.015067 -0.016381  0.012425  0.011546          Merchant  \n",
              "\n",
              "[5 rows x 21 columns]"
            ]
          },
          "metadata": {
            "tags": []
          },
          "execution_count": 26
        }
      ]
    },
    {
      "cell_type": "code",
      "metadata": {
        "id": "cNLSbaJu-6_R",
        "colab_type": "code",
        "colab": {
          "base_uri": "https://localhost:8080/",
          "height": 440
        },
        "outputId": "84a74a60-d5ea-4b0a-ec70-bd4b8c66ddd9"
      },
      "source": [
        "X_fit_train=X_fit[X_fit.labels.isin(['Outlier','Most Loyal'])]\n",
        "X_fit_train.shape,X_fit.shape\n",
        "X_fit_train['target']=[1 if x=='Outlier' else 0 for x in X_fit_train.labels]\n",
        "X_fit_train.target.value_counts()\n",
        "\n",
        "X_fit_train.drop(['labels'],axis=1,inplace=True)\n",
        "X_fit_train.head()\n"
      ],
      "execution_count": 29,
      "outputs": [
        {
          "output_type": "stream",
          "text": [
            "/usr/local/lib/python3.6/dist-packages/ipykernel_launcher.py:3: SettingWithCopyWarning: \n",
            "A value is trying to be set on a copy of a slice from a DataFrame.\n",
            "Try using .loc[row_indexer,col_indexer] = value instead\n",
            "\n",
            "See the caveats in the documentation: http://pandas.pydata.org/pandas-docs/stable/indexing.html#indexing-view-versus-copy\n",
            "  This is separate from the ipykernel package so we can avoid doing imports until\n",
            "/usr/local/lib/python3.6/dist-packages/pandas/core/frame.py:3940: SettingWithCopyWarning: \n",
            "A value is trying to be set on a copy of a slice from a DataFrame\n",
            "\n",
            "See the caveats in the documentation: http://pandas.pydata.org/pandas-docs/stable/indexing.html#indexing-view-versus-copy\n",
            "  errors=errors)\n"
          ],
          "name": "stderr"
        },
        {
          "output_type": "execute_result",
          "data": {
            "text/html": [
              "<div>\n",
              "<style scoped>\n",
              "    .dataframe tbody tr th:only-of-type {\n",
              "        vertical-align: middle;\n",
              "    }\n",
              "\n",
              "    .dataframe tbody tr th {\n",
              "        vertical-align: top;\n",
              "    }\n",
              "\n",
              "    .dataframe thead th {\n",
              "        text-align: right;\n",
              "    }\n",
              "</style>\n",
              "<table border=\"1\" class=\"dataframe\">\n",
              "  <thead>\n",
              "    <tr style=\"text-align: right;\">\n",
              "      <th></th>\n",
              "      <th>0</th>\n",
              "      <th>1</th>\n",
              "      <th>2</th>\n",
              "      <th>3</th>\n",
              "      <th>4</th>\n",
              "      <th>5</th>\n",
              "      <th>6</th>\n",
              "      <th>7</th>\n",
              "      <th>8</th>\n",
              "      <th>9</th>\n",
              "      <th>...</th>\n",
              "      <th>11</th>\n",
              "      <th>12</th>\n",
              "      <th>13</th>\n",
              "      <th>14</th>\n",
              "      <th>15</th>\n",
              "      <th>16</th>\n",
              "      <th>17</th>\n",
              "      <th>18</th>\n",
              "      <th>19</th>\n",
              "      <th>target</th>\n",
              "    </tr>\n",
              "  </thead>\n",
              "  <tbody>\n",
              "    <tr>\n",
              "      <th>7</th>\n",
              "      <td>0.020164</td>\n",
              "      <td>-0.013635</td>\n",
              "      <td>0.007911</td>\n",
              "      <td>-0.021436</td>\n",
              "      <td>0.008455</td>\n",
              "      <td>-0.013617</td>\n",
              "      <td>-0.005827</td>\n",
              "      <td>-0.010837</td>\n",
              "      <td>0.023501</td>\n",
              "      <td>0.021658</td>\n",
              "      <td>...</td>\n",
              "      <td>0.024933</td>\n",
              "      <td>0.017651</td>\n",
              "      <td>0.015969</td>\n",
              "      <td>-0.004355</td>\n",
              "      <td>0.010690</td>\n",
              "      <td>0.010663</td>\n",
              "      <td>-0.007028</td>\n",
              "      <td>0.020203</td>\n",
              "      <td>0.020131</td>\n",
              "      <td>1</td>\n",
              "    </tr>\n",
              "    <tr>\n",
              "      <th>8</th>\n",
              "      <td>-0.017123</td>\n",
              "      <td>0.020500</td>\n",
              "      <td>-0.012058</td>\n",
              "      <td>0.004322</td>\n",
              "      <td>0.003039</td>\n",
              "      <td>0.019776</td>\n",
              "      <td>0.001251</td>\n",
              "      <td>0.002831</td>\n",
              "      <td>0.023954</td>\n",
              "      <td>-0.014044</td>\n",
              "      <td>...</td>\n",
              "      <td>-0.009038</td>\n",
              "      <td>0.015833</td>\n",
              "      <td>-0.003322</td>\n",
              "      <td>0.020640</td>\n",
              "      <td>0.005904</td>\n",
              "      <td>-0.007081</td>\n",
              "      <td>-0.002269</td>\n",
              "      <td>0.003299</td>\n",
              "      <td>0.015489</td>\n",
              "      <td>1</td>\n",
              "    </tr>\n",
              "    <tr>\n",
              "      <th>10</th>\n",
              "      <td>0.020574</td>\n",
              "      <td>-0.012833</td>\n",
              "      <td>-0.017351</td>\n",
              "      <td>0.001102</td>\n",
              "      <td>0.019269</td>\n",
              "      <td>-0.017339</td>\n",
              "      <td>0.007658</td>\n",
              "      <td>-0.016852</td>\n",
              "      <td>-0.007875</td>\n",
              "      <td>0.008002</td>\n",
              "      <td>...</td>\n",
              "      <td>-0.008406</td>\n",
              "      <td>-0.003972</td>\n",
              "      <td>0.024145</td>\n",
              "      <td>0.010498</td>\n",
              "      <td>-0.019529</td>\n",
              "      <td>-0.017847</td>\n",
              "      <td>-0.001050</td>\n",
              "      <td>-0.006969</td>\n",
              "      <td>-0.012489</td>\n",
              "      <td>1</td>\n",
              "    </tr>\n",
              "    <tr>\n",
              "      <th>17</th>\n",
              "      <td>0.000706</td>\n",
              "      <td>-0.013932</td>\n",
              "      <td>-0.022074</td>\n",
              "      <td>-0.021204</td>\n",
              "      <td>0.012988</td>\n",
              "      <td>0.019910</td>\n",
              "      <td>0.001646</td>\n",
              "      <td>0.005862</td>\n",
              "      <td>0.024781</td>\n",
              "      <td>-0.023516</td>\n",
              "      <td>...</td>\n",
              "      <td>-0.004365</td>\n",
              "      <td>0.013720</td>\n",
              "      <td>0.017802</td>\n",
              "      <td>0.008628</td>\n",
              "      <td>0.012033</td>\n",
              "      <td>0.007808</td>\n",
              "      <td>0.019654</td>\n",
              "      <td>-0.000182</td>\n",
              "      <td>-0.015265</td>\n",
              "      <td>1</td>\n",
              "    </tr>\n",
              "    <tr>\n",
              "      <th>42</th>\n",
              "      <td>-0.016267</td>\n",
              "      <td>0.005807</td>\n",
              "      <td>-0.011890</td>\n",
              "      <td>-0.012906</td>\n",
              "      <td>-0.021599</td>\n",
              "      <td>-0.008417</td>\n",
              "      <td>-0.016308</td>\n",
              "      <td>-0.008870</td>\n",
              "      <td>-0.015919</td>\n",
              "      <td>-0.020629</td>\n",
              "      <td>...</td>\n",
              "      <td>0.002103</td>\n",
              "      <td>-0.015266</td>\n",
              "      <td>0.016728</td>\n",
              "      <td>-0.019930</td>\n",
              "      <td>0.003607</td>\n",
              "      <td>0.004404</td>\n",
              "      <td>0.013642</td>\n",
              "      <td>0.013939</td>\n",
              "      <td>0.000542</td>\n",
              "      <td>1</td>\n",
              "    </tr>\n",
              "  </tbody>\n",
              "</table>\n",
              "<p>5 rows × 21 columns</p>\n",
              "</div>"
            ],
            "text/plain": [
              "           0         1         2         3         4         5         6  \\\n",
              "7   0.020164 -0.013635  0.007911 -0.021436  0.008455 -0.013617 -0.005827   \n",
              "8  -0.017123  0.020500 -0.012058  0.004322  0.003039  0.019776  0.001251   \n",
              "10  0.020574 -0.012833 -0.017351  0.001102  0.019269 -0.017339  0.007658   \n",
              "17  0.000706 -0.013932 -0.022074 -0.021204  0.012988  0.019910  0.001646   \n",
              "42 -0.016267  0.005807 -0.011890 -0.012906 -0.021599 -0.008417 -0.016308   \n",
              "\n",
              "           7         8         9  ...        11        12        13        14  \\\n",
              "7  -0.010837  0.023501  0.021658  ...  0.024933  0.017651  0.015969 -0.004355   \n",
              "8   0.002831  0.023954 -0.014044  ... -0.009038  0.015833 -0.003322  0.020640   \n",
              "10 -0.016852 -0.007875  0.008002  ... -0.008406 -0.003972  0.024145  0.010498   \n",
              "17  0.005862  0.024781 -0.023516  ... -0.004365  0.013720  0.017802  0.008628   \n",
              "42 -0.008870 -0.015919 -0.020629  ...  0.002103 -0.015266  0.016728 -0.019930   \n",
              "\n",
              "          15        16        17        18        19  target  \n",
              "7   0.010690  0.010663 -0.007028  0.020203  0.020131       1  \n",
              "8   0.005904 -0.007081 -0.002269  0.003299  0.015489       1  \n",
              "10 -0.019529 -0.017847 -0.001050 -0.006969 -0.012489       1  \n",
              "17  0.012033  0.007808  0.019654 -0.000182 -0.015265       1  \n",
              "42  0.003607  0.004404  0.013642  0.013939  0.000542       1  \n",
              "\n",
              "[5 rows x 21 columns]"
            ]
          },
          "metadata": {
            "tags": []
          },
          "execution_count": 29
        }
      ]
    },
    {
      "cell_type": "code",
      "metadata": {
        "id": "DXlXwsPl8bfL",
        "colab_type": "code",
        "colab": {
          "base_uri": "https://localhost:8080/",
          "height": 119
        },
        "outputId": "09f6a725-bdcd-4e6c-f298-749fe82593f1"
      },
      "source": [
        "y_t=X_fit_train['target']\n",
        "x_t=X_fit_train.drop(['target'],axis=1)\n",
        "\n",
        "\n",
        "\n",
        "clf = RandomForestClassifier(n_estimators=100, max_depth=2,random_state=0)\n",
        "clf.fit(x_t.values, y_t)"
      ],
      "execution_count": 31,
      "outputs": [
        {
          "output_type": "execute_result",
          "data": {
            "text/plain": [
              "RandomForestClassifier(bootstrap=True, class_weight=None, criterion='gini',\n",
              "            max_depth=2, max_features='auto', max_leaf_nodes=None,\n",
              "            min_impurity_decrease=0.0, min_impurity_split=None,\n",
              "            min_samples_leaf=1, min_samples_split=2,\n",
              "            min_weight_fraction_leaf=0.0, n_estimators=100, n_jobs=None,\n",
              "            oob_score=False, random_state=0, verbose=0, warm_start=False)"
            ]
          },
          "metadata": {
            "tags": []
          },
          "execution_count": 31
        }
      ]
    },
    {
      "cell_type": "code",
      "metadata": {
        "id": "mXuWNhXXAog1",
        "colab_type": "code",
        "colab": {
          "base_uri": "https://localhost:8080/",
          "height": 85
        },
        "outputId": "c1b61543-1a47-43d8-f5cc-2f61db15a08c"
      },
      "source": [
        "clf.feature_importances_"
      ],
      "execution_count": 32,
      "outputs": [
        {
          "output_type": "execute_result",
          "data": {
            "text/plain": [
              "array([0.0352984 , 0.0375179 , 0.06731593, 0.02148574, 0.04118559,\n",
              "       0.05350681, 0.04164073, 0.03897747, 0.04583996, 0.02265884,\n",
              "       0.02360053, 0.07387277, 0.05686618, 0.1037165 , 0.03253197,\n",
              "       0.04717408, 0.03159288, 0.07711057, 0.08600145, 0.06210569])"
            ]
          },
          "metadata": {
            "tags": []
          },
          "execution_count": 32
        }
      ]
    },
    {
      "cell_type": "code",
      "metadata": {
        "id": "M9L0D_sgAxUA",
        "colab_type": "code",
        "colab": {
          "base_uri": "https://localhost:8080/",
          "height": 139
        },
        "outputId": "b7596394-db87-4978-905b-5e6cb947bdef"
      },
      "source": [
        "X_fit_predict=X_fit[~X_fit.labels.isin(['Outlier','Most Loyal'])]\n",
        "X_fit_predict.drop(['labels'],axis=1,inplace=True)\n",
        "X_fit_predict.shape"
      ],
      "execution_count": 42,
      "outputs": [
        {
          "output_type": "stream",
          "text": [
            "/usr/local/lib/python3.6/dist-packages/pandas/core/frame.py:3940: SettingWithCopyWarning: \n",
            "A value is trying to be set on a copy of a slice from a DataFrame\n",
            "\n",
            "See the caveats in the documentation: http://pandas.pydata.org/pandas-docs/stable/indexing.html#indexing-view-versus-copy\n",
            "  errors=errors)\n"
          ],
          "name": "stderr"
        },
        {
          "output_type": "execute_result",
          "data": {
            "text/plain": [
              "(100759, 20)"
            ]
          },
          "metadata": {
            "tags": []
          },
          "execution_count": 42
        }
      ]
    },
    {
      "cell_type": "code",
      "metadata": {
        "id": "JY2v4JjmA_FQ",
        "colab_type": "code",
        "colab": {}
      },
      "source": [
        "outlier_predictions=clf.predict_proba(X_fit_predict.values)"
      ],
      "execution_count": 0,
      "outputs": []
    },
    {
      "cell_type": "code",
      "metadata": {
        "id": "UdIC7G7HBS6S",
        "colab_type": "code",
        "colab": {}
      },
      "source": [
        "outlier_predictions.to_csv('Outlier_preds.csv')"
      ],
      "execution_count": 0,
      "outputs": []
    },
    {
      "cell_type": "code",
      "metadata": {
        "id": "lZrXKruBBoUA",
        "colab_type": "code",
        "colab": {}
      },
      "source": [
        "#X_fit_train.target.value_counts()"
      ],
      "execution_count": 0,
      "outputs": []
    },
    {
      "cell_type": "code",
      "metadata": {
        "id": "QtlePezQCDXg",
        "colab_type": "code",
        "colab": {}
      },
      "source": [
        "#outlier_predictions[1:10]"
      ],
      "execution_count": 0,
      "outputs": []
    },
    {
      "cell_type": "code",
      "metadata": {
        "id": "fMu-aBkLCXie",
        "colab_type": "code",
        "colab": {}
      },
      "source": [
        ""
      ],
      "execution_count": 0,
      "outputs": []
    }
  ]
}